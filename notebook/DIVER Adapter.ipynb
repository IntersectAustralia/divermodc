{
 "metadata": {
  "name": "",
  "signature": "sha256:9b60447a61d82a5f2091afbbb2a48bb1b4172895749de271eeb5431a964d82c1"
 },
 "nbformat": 3,
 "nbformat_minor": 0,
 "worksheets": [
  {
   "cells": [
    {
     "cell_type": "heading",
     "level": 1,
     "metadata": {},
     "source": [
      "Tests for DIVER Python API"
     ]
    },
    {
     "cell_type": "heading",
     "level": 2,
     "metadata": {},
     "source": [
      "1. Search for TOA5 files"
     ]
    },
    {
     "cell_type": "code",
     "collapsed": false,
     "input": [
      "# Start DIVER server on localhost:3000\n",
      "# pip install requests\n",
      "# Generate token in DIVER\n",
      "\n",
      "import diver.hiev as hiev \n",
      "\n",
      "# Set token first\n",
      "hiev.set_token('tCGVoqxGhk2jod5zi7Dv')\n",
      "\n",
      "# Search for all TOA5 files\n",
      "results = hiev.search(file_formats=['TOA5'])"
     ],
     "language": "python",
     "metadata": {},
     "outputs": [
      {
       "output_type": "stream",
       "stream": "stdout",
       "text": [
        "Search results: 7\n",
        "Files returned:\n",
        "Filename: weather_station_15_min.dat  (ID: 3)\n",
        "Filename: weather_station_05_min.dat  (ID: 4)\n",
        "Filename: weather_station_table_2.dat  (ID: 5)\n",
        "Filename: WTC01_Table1.dat  (ID: 7)\n",
        "Filename: WTC02_Table1.dat  (ID: 8)\n",
        "Filename: VeryLongFileNameForTestingFileNameExtremeLength_2011Data_TestOnly.dat  (ID: 9)\n",
        "Filename: toa5.dat  (ID: 12)\n"
       ]
      }
     ],
     "prompt_number": 1
    },
    {
     "cell_type": "heading",
     "level": 2,
     "metadata": {},
     "source": [
      "2. Download files resulted from the search above"
     ]
    },
    {
     "cell_type": "code",
     "collapsed": false,
     "input": [
      "hiev.download(results)"
     ],
     "language": "python",
     "metadata": {},
     "outputs": [
      {
       "output_type": "stream",
       "stream": "stdout",
       "text": [
        "Downloading weather_station_15_min.dat\n",
        "Saved as /Users/veronica/Downloads/files/weather_station_15_min.dat\n",
        "Downloading weather_station_05_min.dat"
       ]
      },
      {
       "output_type": "stream",
       "stream": "stdout",
       "text": [
        "\n",
        "Saved as /Users/veronica/Downloads/files/weather_station_05_min.dat\n",
        "Downloading weather_station_table_2.dat"
       ]
      },
      {
       "output_type": "stream",
       "stream": "stdout",
       "text": [
        "\n",
        "Saved as /Users/veronica/Downloads/files/weather_station_table_2.dat"
       ]
      },
      {
       "output_type": "stream",
       "stream": "stdout",
       "text": [
        "\n",
        "Downloading WTC01_Table1.dat"
       ]
      },
      {
       "output_type": "stream",
       "stream": "stdout",
       "text": [
        "\n",
        "Saved as /Users/veronica/Downloads/files/WTC01_Table1.dat\n",
        "Downloading WTC02_Table1.dat"
       ]
      },
      {
       "output_type": "stream",
       "stream": "stdout",
       "text": [
        "\n",
        "Saved as /Users/veronica/Downloads/files/WTC02_Table1.dat\n",
        "Downloading VeryLongFileNameForTestingFileNameExtremeLength_2011Data_TestOnly.dat\n",
        "Saved as /Users/veronica/Downloads/files/VeryLongFileNameForTestingFileNameExtremeLength_2011Data_TestOnly.dat\n",
        "Downloading toa5.dat"
       ]
      },
      {
       "output_type": "stream",
       "stream": "stdout",
       "text": [
        "\n",
        "Saved as /Users/veronica/Downloads/files/toa5.dat\n"
       ]
      }
     ],
     "prompt_number": 2
    }
   ],
   "metadata": {}
  }
 ]
}