{
 "metadata": {
  "name": "",
  "signature": "sha256:d23814a248c532978f9581b52313225e37045a214b8b4734b5192bfbaa65f60d"
 },
 "nbformat": 3,
 "nbformat_minor": 0,
 "worksheets": [
  {
   "cells": [
    {
     "cell_type": "heading",
     "level": 1,
     "metadata": {},
     "source": [
      "Tests for DIVER Python API"
     ]
    },
    {
     "cell_type": "heading",
     "level": 2,
     "metadata": {},
     "source": [
      "1. Search for TOA5 files"
     ]
    },
    {
     "cell_type": "markdown",
     "metadata": {},
     "source": [
      "<p>Before you begin, you need to follow these steps to ensure a successful search:</p>\n",
      " \n",
      "<ol>\n",
      "<li>Go to the DIVER host url (e.g. https://ic2-dc21-staging-vm.intersect.org.au/)</li>\n",
      "<li>Log in</li>\n",
      "<li>Go to 'Settings'</li>\n",
      "<li>Click on 'Generate Token' (or Regenerate Token if you want a new one)\n",
      "<li>Take a note of the DIVER host url (we will refer to as host_url) and your generated token (we will refer to as d_token)\n",
      "<li>(optional) Open 'divermodc/notebook/config.ini' and edit the values of host_url and token as appropriate</li>\n",
      "</ol>\n",
      "\n",
      "\n",
      "You will also want to check out https://github.com/IntersectAustralia/dc21-doc/blob/master/Search_API.md to see the full list of arguments available for search."
     ]
    },
    {
     "cell_type": "code",
     "collapsed": false,
     "input": [
      "import diver.hiev as hiev \n",
      "\n",
      "# Set token and host url if you have not already edited the config.ini file\n",
      "hiev.set_token('zA1JTGGEFH44y7P2Asqy')\n",
      "hiev.set_host(\"http://localhost:3000\")\n",
      "\n",
      "# Search for all TOA5 and text files\n",
      "# Args: There are many available, for the full list of args and their format, \n",
      "# see https://github.com/IntersectAustralia/dc21-doc/blob/master/Search_API.md\n",
      "results = hiev.search(file_formats=[\"TOA5\", \"text/plain\"])"
     ],
     "language": "python",
     "metadata": {},
     "outputs": [
      {
       "output_type": "stream",
       "stream": "stdout",
       "text": [
        "Querying http://localhost:3000/data_files/api_search...\n",
        "Search results: 4"
       ]
      },
      {
       "output_type": "stream",
       "stream": "stdout",
       "text": [
        "\n",
        "Files returned:\n",
        "Filename: sample1.txt  (ID: 1)\n",
        "Filename: sample2.txt  (ID: 2)\n",
        "Filename: sample3.txt  (ID: 6)\n",
        "Filename: Test_OCR.jpg.txt  (ID: 11)\n"
       ]
      }
     ],
     "prompt_number": 1
    },
    {
     "cell_type": "heading",
     "level": 2,
     "metadata": {},
     "source": [
      "2. Download files resulted from the search above"
     ]
    },
    {
     "cell_type": "code",
     "collapsed": false,
     "input": [
      "# Download Destination (Absolute Path)\n",
      "download_dest = \"/Users/veronica/Downloads/files\"\n",
      "# Arg1: Results of a search from hiev.search()\n",
      "# Arg2: Where files are downloaded to \n",
      "hiev.download(results, download_dest)"
     ],
     "language": "python",
     "metadata": {},
     "outputs": [
      {
       "output_type": "stream",
       "stream": "stdout",
       "text": [
        "Downloading sample1.txt\n",
        "Saved as /Users/veronica/Downloads/files/sample1.txt\n",
        "Downloading sample2.txt"
       ]
      },
      {
       "output_type": "stream",
       "stream": "stdout",
       "text": [
        "\n",
        "Saved as /Users/veronica/Downloads/files/sample2.txt\n",
        "Downloading sample3.txt"
       ]
      },
      {
       "output_type": "stream",
       "stream": "stdout",
       "text": [
        "\n",
        "Saved as /Users/veronica/Downloads/files/sample3.txt\n",
        "Downloading Test_OCR.jpg.txt"
       ]
      },
      {
       "output_type": "stream",
       "stream": "stdout",
       "text": [
        "\n",
        "Saved as /Users/veronica/Downloads/files/Test_OCR.jpg.txt\n"
       ]
      }
     ],
     "prompt_number": 6
    },
    {
     "cell_type": "heading",
     "level": 2,
     "metadata": {},
     "source": [
      "3. Upload file to DIVER"
     ]
    },
    {
     "cell_type": "markdown",
     "metadata": {},
     "source": [
      "<p>Follow these steps to upload:</p>\n",
      " \n",
      "<ol>\n",
      "<li>Make sure you have test files ready in a directory (note directory absolute path)</li>\n",
      "<li>Log into DIVER and check the experiment IDs, pick one you want to upload files to</li>\n",
      "<li>Run the code below (\"Cell\"->\"Run all\" in the menu on this page will help run everything. You NEED to run everything through to get the token set up correctly) to upload the file (see comments for what arguments to put)</li>\n",
      "</ol>"
     ]
    },
    {
     "cell_type": "code",
     "collapsed": false,
     "input": [
      "import diver.hiev as hiev \n",
      "# Arg1: File to be uploaded (absolute path)\n",
      "# Arg2: Experiment ID (log into DIVER to check what IDs are available)\n",
      "# Arg3: File Type (\"RAW\", \"PROCESSED\" or \"PACKAGED\")\n",
      "response = hiev.upload('/Users/veronica/Downloads/files/testfile.txt', 2, 'RAW')\n",
      "print response.text"
     ],
     "language": "python",
     "metadata": {},
     "outputs": [
      {
       "output_type": "stream",
       "stream": "stdout",
       "text": [
        "Uploading file /Users/veronica/Downloads/files/testfile.txt to http://localhost:3000/data_files/api_create..\n",
        "Upload complete!"
       ]
      },
      {
       "output_type": "stream",
       "stream": "stdout",
       "text": [
        "\n",
        "{\"file_id\":17,\"messages\":[\"File uploaded successfully.\"],\"file_name\":\"2.txt\",\"file_type\":\"RAW\"}\n"
       ]
      }
     ],
     "prompt_number": 5
    }
   ],
   "metadata": {}
  }
 ]
}