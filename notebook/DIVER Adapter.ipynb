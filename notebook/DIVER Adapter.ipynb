{
 "metadata": {
  "name": "",
  "signature": "sha256:e909f33dda6ccf206edaa530b53be141361f5d2d4d3e4a4412af2ebe12c37b2b"
 },
 "nbformat": 3,
 "nbformat_minor": 0,
 "worksheets": [
  {
   "cells": [
    {
     "cell_type": "heading",
     "level": 1,
     "metadata": {},
     "source": [
      "Tests for DIVER Python API"
     ]
    },
    {
     "cell_type": "heading",
     "level": 2,
     "metadata": {},
     "source": [
      "1. Search for files"
     ]
    },
    {
     "cell_type": "markdown",
     "metadata": {},
     "source": [
      "<p>Before you begin, you need to follow these steps to ensure a successful search:</p>\n",
      " \n",
      "<ol>\n",
      "<li>Go to the DIVER host url (e.g. https://rdsi-emast4-vm.intersect.org.au)</li>\n",
      "<li>Log in</li>\n",
      "<li>Go to 'Settings'</li>\n",
      "<li>Click on 'Generate Token' (or Regenerate Token if you want a new one)\n",
      "<li>Take a note of the DIVER host url (we will refer to as host_url) and your generated token (we will refer to as d_token)\n",
      "<li>(optional) Open 'divermodc/notebook/config.ini' and edit the values of host_url and d_token as appropriate</li>\n",
      "</ol>\n",
      "\n",
      "The editing of 'config.ini' is optional because you can run 'set_token()' and 'set_host()' in your code instead, if you prefer to set these parameters during run-time.\n",
      "\n",
      "Let's look at some examples of how to use this feature.\n"
     ]
    },
    {
     "cell_type": "heading",
     "level": 3,
     "metadata": {},
     "source": [
      "Example 1: Find all TOA5 and text files"
     ]
    },
    {
     "cell_type": "code",
     "collapsed": false,
     "input": [
      "# Ignore SSL warnings for now\n",
      "import warnings\n",
      "warnings.filterwarnings('ignore')\n",
      "\n",
      "import diver.hiev as hiev \n",
      "\n",
      "# Set token and host url if you have not already edited the config.ini file\n",
      "hiev.set_token('set your d_token')\n",
      "hiev.set_host('set your host_url')\n",
      "\n",
      "# Search for all TOA5 and text files\n",
      "# Args: There are many available, for the full list of args and their format, \n",
      "# see https://github.com/IntersectAustralia/dc21-doc/blob/master/Search_API.md\n",
      "results = hiev.search(file_formats=[\"TOA5\", 'text/plain'])\n",
      "\n",
      "# Print out the resulted json \n",
      "print '\\nResulted json:'\n",
      "print hiev.pretty_print_json(results)"
     ],
     "language": "python",
     "metadata": {},
     "outputs": [
      {
       "output_type": "stream",
       "stream": "stdout",
       "text": [
        "Posting Query to https://rdsi-emast4-vm.intersect.org.au/data_files/api_search...\n",
        "Search results: 4"
       ]
      },
      {
       "output_type": "stream",
       "stream": "stdout",
       "text": [
        "\n",
        "Files returned:\n",
        "Filename: test.txt  (ID: 1)\n",
        "Filename: FACE_P0037_RA_testdata_2013-07-15_V1.csv  (ID: 2)\n",
        "Filename: WTC02_Table1.dat  (ID: 4)\n",
        "Filename: rails_timezone.txt  (ID: 7)\n",
        "\n",
        "Resulted json:\n",
        "[\n",
        "  {\n",
        "    \"created_at\": \"2014-10-15T15:15:27+11:00\",\n",
        "    \"created_by_id\": 1,\n",
        "    \"end_time\": null,\n",
        "    \"experiment_id\": 1,\n",
        "    \"facility_id\": 1,\n",
        "    \"file_id\": 1,\n",
        "    \"file_processing_description\": \"Observation data from rain out shelters.\",\n",
        "    \"file_processing_status\": \"RAW\",\n",
        "    \"file_size\": 9.0,\n",
        "    \"filename\": \"test.txt\",\n",
        "    \"format\": \"text/plain\",\n",
        "    \"id\": \"\",\n",
        "    \"interval\": null,\n",
        "    \"path\": \"/data/dc21-data/test.txt\",\n",
        "    \"published\": false,\n",
        "    \"published_by_id\": null,\n",
        "    \"published_date\": null,\n",
        "    \"start_time\": null,\n",
        "    \"updated_at\": \"2014-10-15T15:17:10+11:00\",\n",
        "    \"url\": \"https://rdsi-emast4-vm.intersect.org.au/data_files/1/download.json\"\n",
        "  },\n",
        "  {\n",
        "    \"created_at\": \"2014-10-15T15:28:20+11:00\",\n",
        "    \"created_by_id\": 1,\n",
        "    \"end_time\": \"2014-11-01T11:00:00+11:00\",\n",
        "    \"experiment_id\": 1,\n",
        "    \"facility_id\": 1,\n",
        "    \"file_id\": 2,\n",
        "    \"file_processing_description\": \"Test data\",\n",
        "    \"file_processing_status\": \"RAW\",\n",
        "    \"file_size\": 3616.0,\n",
        "    \"filename\": \"FACE_P0037_RA_testdata_2013-07-15_V1.csv\",\n",
        "    \"format\": \"text/plain\",\n",
        "    \"id\": \"\",\n",
        "    \"interval\": null,\n",
        "    \"path\": \"/data/dc21-data/FACE_P0037_RA_testdata_2013-07-15_V1.csv\",\n",
        "    \"published\": false,\n",
        "    \"published_by_id\": null,\n",
        "    \"published_date\": null,\n",
        "    \"start_time\": \"2014-10-01T10:00:00+10:00\",\n",
        "    \"updated_at\": \"2014-10-15T15:29:02+11:00\",\n",
        "    \"url\": \"https://rdsi-emast4-vm.intersect.org.au/data_files/2/download.json\"\n",
        "  },\n",
        "  {\n",
        "    \"created_at\": \"2015-01-14T12:37:40+11:00\",\n",
        "    \"created_by_id\": 6,\n",
        "    \"end_time\": \"2011-11-03T00:00:00+11:00\",\n",
        "    \"experiment_id\": 2,\n",
        "    \"facility_id\": 3,\n",
        "    \"file_id\": 4,\n",
        "    \"file_processing_description\": \"Test .dat file\",\n",
        "    \"file_processing_status\": \"RAW\",\n",
        "    \"file_size\": 832167.0,\n",
        "    \"filename\": \"WTC02_Table1.dat\",\n",
        "    \"format\": \"TOA5\",\n",
        "    \"id\": \"\",\n",
        "    \"interval\": 900,\n",
        "    \"path\": \"/data/dc21-data/WTC02_Table1.dat\",\n",
        "    \"published\": false,\n",
        "    \"published_by_id\": null,\n",
        "    \"published_date\": null,\n",
        "    \"start_time\": \"2011-08-11T19:30:00+10:00\",\n",
        "    \"updated_at\": \"2015-01-14T13:01:52+11:00\",\n",
        "    \"url\": \"https://rdsi-emast4-vm.intersect.org.au/data_files/4/download.json\"\n",
        "  },\n",
        "  {\n",
        "    \"created_at\": \"2015-01-14T14:51:49+11:00\",\n",
        "    \"created_by_id\": 6,\n",
        "    \"end_time\": null,\n",
        "    \"experiment_id\": 1,\n",
        "    \"facility_id\": 1,\n",
        "    \"file_id\": 7,\n",
        "    \"file_processing_description\": \"\",\n",
        "    \"file_processing_status\": \"RAW\",\n",
        "    \"file_size\": 1927.0,\n",
        "    \"filename\": \"rails_timezone.txt\",\n",
        "    \"format\": \"text/plain\",\n",
        "    \"id\": \"\",\n",
        "    \"interval\": null,\n",
        "    \"path\": \"/data/dc21-data/rails_timezone.txt\",\n",
        "    \"published\": false,\n",
        "    \"published_by_id\": null,\n",
        "    \"published_date\": null,\n",
        "    \"start_time\": null,\n",
        "    \"updated_at\": \"2015-01-14T14:51:49+11:00\",\n",
        "    \"url\": \"https://rdsi-emast4-vm.intersect.org.au/data_files/7/download.json\"\n",
        "  }\n",
        "]\n"
       ]
      }
     ],
     "prompt_number": 16
    },
    {
     "cell_type": "heading",
     "level": 3,
     "metadata": {},
     "source": [
      "Example 2: Find all files that belongs to experiment 1 and experiment 2, and also have the suffix 'txt'"
     ]
    },
    {
     "cell_type": "code",
     "collapsed": false,
     "input": [
      "import diver.hiev as hiev \n",
      "\n",
      "# You only have to set your token and host url once. Set it again if the url changes or you want to change user.\n",
      "\n",
      "results = hiev.search(experiments=[1,2], filename='txt$')\n"
     ],
     "language": "python",
     "metadata": {},
     "outputs": [
      {
       "output_type": "stream",
       "stream": "stdout",
       "text": [
        "Posting Query to https://rdsi-emast4-vm.intersect.org.au/data_files/api_search...\n",
        "Search results: 2"
       ]
      },
      {
       "output_type": "stream",
       "stream": "stdout",
       "text": [
        "\n",
        "Files returned:\n",
        "Filename: test.txt  (ID: 1)\n",
        "Filename: rails_timezone.txt  (ID: 7)\n"
       ]
      }
     ],
     "prompt_number": 12
    },
    {
     "cell_type": "heading",
     "level": 3,
     "metadata": {},
     "source": [
      "Example 3: Find all files that contains certain variables"
     ]
    },
    {
     "cell_type": "code",
     "collapsed": false,
     "input": [
      "import diver.hiev as hiev\n",
      "\n",
      "# The following will match any files that has any of these variables\n",
      "results = hiev.search(variables=[\"TIMESTAMP\", \"RECORD\"])"
     ],
     "language": "python",
     "metadata": {},
     "outputs": [
      {
       "output_type": "stream",
       "stream": "stdout",
       "text": [
        "Posting Query to https://rdsi-emast4-vm.intersect.org.au/data_files/api_search...\n",
        "Search results: 1"
       ]
      },
      {
       "output_type": "stream",
       "stream": "stdout",
       "text": [
        "\n",
        "Files returned:\n",
        "Filename: WTC02_Table1.dat  (ID: 4)\n"
       ]
      }
     ],
     "prompt_number": 14
    },
    {
     "cell_type": "markdown",
     "metadata": {},
     "source": [
      "You will also want to check out https://github.com/IntersectAustralia/dc21-doc/blob/master/Search_API.md to see the full list of arguments available for search."
     ]
    },
    {
     "cell_type": "heading",
     "level": 2,
     "metadata": {},
     "source": [
      "2. Download files resulted from the search above"
     ]
    },
    {
     "cell_type": "code",
     "collapsed": false,
     "input": [
      "# Download Destination (Absolute Path)\n",
      "download_dest = \"/Users/veronica/Downloads/files\"\n",
      "# Arg1: Results of a search from hiev.search()\n",
      "# Arg2: Where files are downloaded to \n",
      "hiev.download(results, download_dest)"
     ],
     "language": "python",
     "metadata": {},
     "outputs": [
      {
       "output_type": "stream",
       "stream": "stdout",
       "text": [
        "Downloading test.txt\n",
        "Saved as /Users/veronica/Downloads/files/test.txt\n",
        "Downloading FACE_P0037_RA_testdata_2013-07-15_V1.csv"
       ]
      },
      {
       "output_type": "stream",
       "stream": "stdout",
       "text": [
        "\n",
        "Saved as /Users/veronica/Downloads/files/FACE_P0037_RA_testdata_2013-07-15_V1.csv\n",
        "Downloading WTC02_Table1.dat"
       ]
      },
      {
       "output_type": "stream",
       "stream": "stdout",
       "text": [
        "\n",
        "Saved as /Users/veronica/Downloads/files/WTC02_Table1.dat\n",
        "Downloading rails_timezone.txt"
       ]
      },
      {
       "output_type": "stream",
       "stream": "stdout",
       "text": [
        "\n",
        "Saved as /Users/veronica/Downloads/files/rails_timezone.txt\n"
       ]
      }
     ],
     "prompt_number": 17
    },
    {
     "cell_type": "heading",
     "level": 2,
     "metadata": {},
     "source": [
      "3. Upload file to DIVER"
     ]
    },
    {
     "cell_type": "markdown",
     "metadata": {},
     "source": [
      "<p>Follow these steps to upload:</p>\n",
      " \n",
      "<ol>\n",
      "<li>Make sure you have test files ready in a directory (note directory absolute path)</li>\n",
      "<li>Log into DIVER and check the experiment IDs, pick one you want to upload files to</li>\n",
      "<li>Run the code below (\"Cell\"->\"Run all\" in the menu on this page will help run everything. You NEED to run everything through to get the token set up correctly) to upload the file (see comments for what arguments to put)</li>\n",
      "</ol>"
     ]
    },
    {
     "cell_type": "code",
     "collapsed": false,
     "input": [
      "import diver.hiev as hiev \n",
      "# Arg1: File to be uploaded (absolute path)\n",
      "# Arg2: Experiment ID (log into DIVER to check what IDs are available)\n",
      "# Arg3: File Type (\"RAW\", \"PROCESSED\" or \"PACKAGED\")\n",
      "response = hiev.upload('/Users/veronica/Downloads/files/rails_timezone.txt', 1, 'RAW')\n",
      "print response.text"
     ],
     "language": "python",
     "metadata": {},
     "outputs": [
      {
       "output_type": "stream",
       "stream": "stdout",
       "text": [
        "Uploading file /Users/veronica/Downloads/files/rails_timezone.txt to https://rdsi-emast4-vm.intersect.org.au/data_files/api_create..\n",
        "Upload complete!"
       ]
      },
      {
       "output_type": "stream",
       "stream": "stdout",
       "text": [
        "\n",
        "{\"file_id\":7,\"messages\":[\"File uploaded successfully.\"],\"file_name\":\"rails_timezone.txt\",\"file_type\":\"RAW\"}\n"
       ]
      }
     ],
     "prompt_number": 77
    }
   ],
   "metadata": {}
  }
 ]
}