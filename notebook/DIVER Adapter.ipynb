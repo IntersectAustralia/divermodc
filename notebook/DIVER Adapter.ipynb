{
 "metadata": {
  "name": "",
  "signature": "sha256:447e7a1ac5c26016e06432d4701856db2d1fc099bac0a6dd2dc5295c66e47f1d"
 },
 "nbformat": 3,
 "nbformat_minor": 0,
 "worksheets": [
  {
   "cells": [
    {
     "cell_type": "heading",
     "level": 1,
     "metadata": {},
     "source": [
      "Tests for DIVER Python API"
     ]
    },
    {
     "cell_type": "heading",
     "level": 2,
     "metadata": {},
     "source": [
      "1. Search for files"
     ]
    },
    {
     "cell_type": "markdown",
     "metadata": {},
     "source": [
      "<p>Before you begin, you need to follow these steps to ensure a successful search:</p>\n",
      " \n",
      "<ol>\n",
      "<li>Go to the DIVER host url (e.g. https://ic2-dc21-staging-vm.intersect.org.au/)</li>\n",
      "<li>Log in</li>\n",
      "<li>Go to 'Settings'</li>\n",
      "<li>Click on 'Generate Token' (or Regenerate Token if you want a new one)\n",
      "<li>Take a note of the DIVER host url (we will refer to as host_url) and your generated token (we will refer to as d_token)\n",
      "<li>(optional) Open 'divermodc/notebook/config.ini' and edit the values of host_url and d_token as appropriate</li>\n",
      "</ol>\n",
      "\n",
      "The editing of 'config.ini' is optional because you can run 'set_token()' and 'set_host()' in your code instead, if you prefer to set these parameters during run-time.\n",
      "\n",
      "Let's look at some examples of how to use this feature.\n"
     ]
    },
    {
     "cell_type": "heading",
     "level": 3,
     "metadata": {},
     "source": [
      "Example 1: Find all TOA5 and text files"
     ]
    },
    {
     "cell_type": "code",
     "collapsed": false,
     "input": [
      "import warnings\n",
      "warnings.filterwarnings('ignore')\n",
      "\n",
      "import diver.hiev as hiev \n",
      "\n",
      "# Set token and host url if you have not already edited the config.ini file\n",
      "hiev.set_token('DbRQDUygc6d6PNKzDZyH')\n",
      "hiev.set_host(\"https://ic2-diver-qa-vm.intersect.org.au\")\n",
      "\n",
      "# Search for all TOA5 and text files\n",
      "# Args: There are many available, for the full list of args and their format, \n",
      "# see https://github.com/IntersectAustralia/dc21-doc/blob/master/Search_API.md\n",
      "results = hiev.search(file_formats=[\"TOA5\", \"text/plain\"])"
     ],
     "language": "python",
     "metadata": {},
     "outputs": [
      {
       "output_type": "stream",
       "stream": "stdout",
       "text": [
        "Posting Query to https://ic2-diver-qa-vm.intersect.org.au/data_files/api_search...\n",
        "Search results: 12"
       ]
      },
      {
       "output_type": "stream",
       "stream": "stdout",
       "text": [
        "\n",
        "Files returned:\n",
        "Filename: sample1.txt  (ID: 1)\n",
        "Filename: sample2.txt  (ID: 2)\n",
        "Filename: weather_station_15_min.dat  (ID: 3)\n",
        "Filename: weather_station_05_min.dat  (ID: 4)\n",
        "Filename: weather_station_table_2.dat  (ID: 5)\n",
        "Filename: sample3.txt  (ID: 6)\n",
        "Filename: WTC01_Table1.dat  (ID: 7)\n",
        "Filename: WTC02_Table1.dat  (ID: 8)\n",
        "Filename: VeryLongFileNameForTestingFileNameExtremeLength_2011Data_TestOnly.dat  (ID: 9)\n",
        "Filename: 2.txt  (ID: 17)\n",
        "Filename: 2_1.txt  (ID: 18)\n",
        "Filename: 2_2.txt  (ID: 19)\n"
       ]
      }
     ],
     "prompt_number": 3
    },
    {
     "cell_type": "heading",
     "level": 3,
     "metadata": {},
     "source": [
      "Example 2: Find all files that belongs to experiment 1 and experiment 2, and also have the prefix 'txt'"
     ]
    },
    {
     "cell_type": "code",
     "collapsed": false,
     "input": [
      "import diver.hiev as hiev \n",
      "\n",
      "# You only have to set your token and host url once. Set it again if the url changes or you want to change user.\n",
      "\n",
      "results = hiev.search(experiments=[1,2], filename='txt$')"
     ],
     "language": "python",
     "metadata": {},
     "outputs": [
      {
       "output_type": "stream",
       "stream": "stdout",
       "text": [
        "Posting Query to https://ic2-diver-qa-vm.intersect.org.au/data_files/api_search...\n",
        "Search results: 6"
       ]
      },
      {
       "output_type": "stream",
       "stream": "stdout",
       "text": [
        "\n",
        "Files returned:\n",
        "Filename: sample1.txt  (ID: 1)\n",
        "Filename: sample2.txt  (ID: 2)\n",
        "Filename: sample3.txt  (ID: 6)\n",
        "Filename: 2.txt  (ID: 17)\n",
        "Filename: 2_1.txt  (ID: 18)\n",
        "Filename: 2_2.txt  (ID: 19)\n"
       ]
      }
     ],
     "prompt_number": 4
    },
    {
     "cell_type": "heading",
     "level": 3,
     "metadata": {},
     "source": [
      "Example 3: Find all files that contains certain variables"
     ]
    },
    {
     "cell_type": "code",
     "collapsed": false,
     "input": [
      "import diver.hiev as hiev\n",
      "\n",
      "# The following will match any files that has any of these variables\n",
      "results = hiev.search(variables=[\"BattV_Min\", \"PTemp_C_Max\", \"RECORD\"])"
     ],
     "language": "python",
     "metadata": {},
     "outputs": [
      {
       "output_type": "stream",
       "stream": "stdout",
       "text": [
        "Posting Query to https://ic2-diver-qa-vm.intersect.org.au/data_files/api_search...\n",
        "Search results: 6"
       ]
      },
      {
       "output_type": "stream",
       "stream": "stdout",
       "text": [
        "\n",
        "Files returned:\n",
        "Filename: weather_station_15_min.dat  (ID: 3)\n",
        "Filename: weather_station_05_min.dat  (ID: 4)\n",
        "Filename: weather_station_table_2.dat  (ID: 5)\n",
        "Filename: WTC01_Table1.dat  (ID: 7)\n",
        "Filename: WTC02_Table1.dat  (ID: 8)\n",
        "Filename: VeryLongFileNameForTestingFileNameExtremeLength_2011Data_TestOnly.dat  (ID: 9)\n"
       ]
      }
     ],
     "prompt_number": 5
    },
    {
     "cell_type": "markdown",
     "metadata": {},
     "source": [
      "You will also want to check out https://github.com/IntersectAustralia/dc21-doc/blob/master/Search_API.md to see the full list of arguments available for search."
     ]
    },
    {
     "cell_type": "heading",
     "level": 2,
     "metadata": {},
     "source": [
      "2. Download files resulted from the search above"
     ]
    },
    {
     "cell_type": "code",
     "collapsed": false,
     "input": [
      "# Download Destination (Absolute Path)\n",
      "download_dest = \"/Users/veronica/Downloads/files\"\n",
      "# Arg1: Results of a search from hiev.search()\n",
      "# Arg2: Where files are downloaded to \n",
      "hiev.download(results, download_dest)"
     ],
     "language": "python",
     "metadata": {},
     "outputs": [
      {
       "output_type": "stream",
       "stream": "stdout",
       "text": [
        "Downloading weather_station_15_min.dat\n",
        "Saved as /Users/veronica/Downloads/files/weather_station_15_min.dat"
       ]
      },
      {
       "output_type": "stream",
       "stream": "stdout",
       "text": [
        "\n",
        "Downloading weather_station_05_min.dat"
       ]
      },
      {
       "output_type": "stream",
       "stream": "stdout",
       "text": [
        "\n",
        "Saved as /Users/veronica/Downloads/files/weather_station_05_min.dat"
       ]
      },
      {
       "output_type": "stream",
       "stream": "stdout",
       "text": [
        "\n",
        "Downloading weather_station_table_2.dat"
       ]
      },
      {
       "output_type": "stream",
       "stream": "stdout",
       "text": [
        "\n",
        "Saved as /Users/veronica/Downloads/files/weather_station_table_2.dat"
       ]
      },
      {
       "output_type": "stream",
       "stream": "stdout",
       "text": [
        "\n",
        "Downloading WTC01_Table1.dat"
       ]
      },
      {
       "output_type": "stream",
       "stream": "stdout",
       "text": [
        "\n",
        "Saved as /Users/veronica/Downloads/files/WTC01_Table1.dat"
       ]
      },
      {
       "output_type": "stream",
       "stream": "stdout",
       "text": [
        "\n",
        "Downloading WTC02_Table1.dat"
       ]
      },
      {
       "output_type": "stream",
       "stream": "stdout",
       "text": [
        "\n",
        "Saved as /Users/veronica/Downloads/files/WTC02_Table1.dat"
       ]
      },
      {
       "output_type": "stream",
       "stream": "stdout",
       "text": [
        "\n",
        "Downloading VeryLongFileNameForTestingFileNameExtremeLength_2011Data_TestOnly.dat"
       ]
      },
      {
       "output_type": "stream",
       "stream": "stdout",
       "text": [
        "\n",
        "Saved as /Users/veronica/Downloads/files/VeryLongFileNameForTestingFileNameExtremeLength_2011Data_TestOnly.dat"
       ]
      },
      {
       "output_type": "stream",
       "stream": "stdout",
       "text": [
        "\n"
       ]
      }
     ],
     "prompt_number": 6
    },
    {
     "cell_type": "heading",
     "level": 2,
     "metadata": {},
     "source": [
      "3. Upload file to DIVER"
     ]
    },
    {
     "cell_type": "markdown",
     "metadata": {},
     "source": [
      "<p>Follow these steps to upload:</p>\n",
      " \n",
      "<ol>\n",
      "<li>Make sure you have test files ready in a directory (note directory absolute path)</li>\n",
      "<li>Log into DIVER and check the experiment IDs, pick one you want to upload files to</li>\n",
      "<li>Run the code below (\"Cell\"->\"Run all\" in the menu on this page will help run everything. You NEED to run everything through to get the token set up correctly) to upload the file (see comments for what arguments to put)</li>\n",
      "</ol>"
     ]
    },
    {
     "cell_type": "code",
     "collapsed": false,
     "input": [
      "import diver.hiev as hiev \n",
      "# Arg1: File to be uploaded (absolute path)\n",
      "# Arg2: Experiment ID (log into DIVER to check what IDs are available)\n",
      "# Arg3: File Type (\"RAW\", \"PROCESSED\" or \"PACKAGED\")\n",
      "response = hiev.upload('/Users/veronica/Downloads/files/testfile.txt', 2, 'RAW')\n",
      "print response.text"
     ],
     "language": "python",
     "metadata": {},
     "outputs": [
      {
       "output_type": "stream",
       "stream": "stdout",
       "text": [
        "Uploading file /Users/veronica/Downloads/files/testfile.txt to https://ic2-diver-qa-vm.intersect.org.au/data_files/api_create..\n",
        "Upload complete!"
       ]
      },
      {
       "output_type": "stream",
       "stream": "stdout",
       "text": [
        "\n",
        "{\"file_id\":20,\"messages\":[\"File uploaded successfully.\"],\"file_name\":\"testfile.txt\",\"file_type\":\"RAW\"}\n"
       ]
      }
     ],
     "prompt_number": 7
    }
   ],
   "metadata": {}
  }
 ]
}