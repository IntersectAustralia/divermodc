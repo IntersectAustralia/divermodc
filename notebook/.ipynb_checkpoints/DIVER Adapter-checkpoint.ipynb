{
 "metadata": {
  "name": "",
  "signature": "sha256:f4cc0e707ff1bb30c5dec2db15d65c359c098aa952a0cd5ca21f5ccc0a838729"
 },
 "nbformat": 3,
 "nbformat_minor": 0,
 "worksheets": [
  {
   "cells": [
    {
     "cell_type": "code",
     "collapsed": false,
     "input": [
      "# Start DIVER server on localhost:3000\n",
      "# pip install requests\n",
      "# Generate token in DIVER\n",
      "\n",
      "import scripts.results"
     ],
     "language": "python",
     "metadata": {},
     "outputs": []
    },
    {
     "cell_type": "code",
     "collapsed": false,
     "input": [],
     "language": "python",
     "metadata": {},
     "outputs": []
    }
   ],
   "metadata": {}
  }
 ]
}