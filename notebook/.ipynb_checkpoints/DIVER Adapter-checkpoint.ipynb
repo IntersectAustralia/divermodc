{
 "metadata": {
  "name": "",
  "signature": "sha256:e619f43c1b575f5b500ecad675311576d7e99607c54c1a947470f92c1698a618"
 },
 "nbformat": 3,
 "nbformat_minor": 0,
 "worksheets": [
  {
   "cells": [
    {
     "cell_type": "heading",
     "level": 1,
     "metadata": {},
     "source": [
      "Tests for DIVER Python API"
     ]
    },
    {
     "cell_type": "heading",
     "level": 2,
     "metadata": {},
     "source": [
      "1. Search for TOA5 files"
     ]
    },
    {
     "cell_type": "markdown",
     "metadata": {},
     "source": [
      "<p>Before you begin, you need to follow these steps to ensure a successful search:</p>\n",
      " \n",
      "<ol>\n",
      "<li>Go to the DIVER host url (e.g. https://ic2-dc21-staging-vm.intersect.org.au/)</li>\n",
      "<li>Log in</li>\n",
      "<li>Go to 'Settings'</li>\n",
      "<li>Click on 'Generate Token' (or Regenerate Token if you want a new one)\n",
      "<li>Take a note of the DIVER host url (we will refer to as host_url) and your generated token (we will refer to as d_token)\n",
      "<li>(optional) Open 'divermodc/notebook/config.ini' and edit the values of host_url and token as appropriate</li>\n",
      "</ol>"
     ]
    },
    {
     "cell_type": "code",
     "collapsed": false,
     "input": [
      "import diver.hiev as hiev \n",
      "\n",
      "# Set token and host url if you have not already edited the config.ini file\n",
      "hiev.set_token('tCGVoqxGhk2jod5zi7Dv')\n",
      "hiev.set_host(\"http://localhost:3000\")\n",
      "\n",
      "# Search for all TOA5 files\n",
      "results = hiev.search(file_formats=['TOA5'])"
     ],
     "language": "python",
     "metadata": {},
     "outputs": [
      {
       "output_type": "stream",
       "stream": "stdout",
       "text": [
        "Querying http://localhost:3000/data_files/api_search...\n",
        "Search results: 7"
       ]
      },
      {
       "output_type": "stream",
       "stream": "stdout",
       "text": [
        "\n",
        "Files returned:\n",
        "Filename: weather_station_15_min.dat  (ID: 3)\n",
        "Filename: weather_station_05_min.dat  (ID: 4)\n",
        "Filename: weather_station_table_2.dat  (ID: 5)\n",
        "Filename: WTC01_Table1.dat  (ID: 7)\n",
        "Filename: WTC02_Table1.dat  (ID: 8)\n",
        "Filename: VeryLongFileNameForTestingFileNameExtremeLength_2011Data_TestOnly.dat  (ID: 9)\n",
        "Filename: toa5.dat  (ID: 12)\n"
       ]
      }
     ],
     "prompt_number": 1
    },
    {
     "cell_type": "heading",
     "level": 2,
     "metadata": {},
     "source": [
      "2. Download files resulted from the search above"
     ]
    },
    {
     "cell_type": "code",
     "collapsed": false,
     "input": [
      "download_dest = \"/Users/veronica/Downloads/files\"\n",
      "hiev.download(results, download_dest)"
     ],
     "language": "python",
     "metadata": {},
     "outputs": [
      {
       "output_type": "stream",
       "stream": "stdout",
       "text": [
        "Downloading weather_station_15_min.dat\n",
        "Saved as /Users/veronica/Downloads/files/weather_station_15_min.dat\n",
        "Downloading weather_station_05_min.dat\n",
        "Saved as /Users/veronica/Downloads/files/weather_station_05_min.dat\n",
        "Downloading weather_station_table_2.dat"
       ]
      },
      {
       "output_type": "stream",
       "stream": "stdout",
       "text": [
        "\n",
        "Saved as /Users/veronica/Downloads/files/weather_station_table_2.dat"
       ]
      },
      {
       "output_type": "stream",
       "stream": "stdout",
       "text": [
        "\n",
        "Downloading WTC01_Table1.dat"
       ]
      },
      {
       "output_type": "stream",
       "stream": "stdout",
       "text": [
        "\n",
        "Saved as /Users/veronica/Downloads/files/WTC01_Table1.dat\n",
        "Downloading WTC02_Table1.dat"
       ]
      },
      {
       "output_type": "stream",
       "stream": "stdout",
       "text": [
        "\n",
        "Saved as /Users/veronica/Downloads/files/WTC02_Table1.dat\n",
        "Downloading VeryLongFileNameForTestingFileNameExtremeLength_2011Data_TestOnly.dat"
       ]
      },
      {
       "output_type": "stream",
       "stream": "stdout",
       "text": [
        "\n",
        "Saved as /Users/veronica/Downloads/files/VeryLongFileNameForTestingFileNameExtremeLength_2011Data_TestOnly.dat\n",
        "Downloading toa5.dat"
       ]
      },
      {
       "output_type": "stream",
       "stream": "stdout",
       "text": [
        "\n",
        "Saved as /Users/veronica/Downloads/files/toa5.dat\n"
       ]
      }
     ],
     "prompt_number": 3
    }
   ],
   "metadata": {}
  }
 ]
}