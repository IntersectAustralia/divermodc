{
 "cells": [
  {
   "cell_type": "markdown",
   "metadata": {},
   "source": [
    "# eMAST Vocabulary Service\n",
    "\n",
    "Before DIVER can be queried, the host URL and API token must be set. This is not needed to query the Vocab Service only, but is for queries that involve both DIVER and the Vocab Service working in conjunction\n",
    "\n",
    "The Vocabulary Service directly access the variable definitions as a CSV file.\n",
    "\n",
    "## Import libraries and set configuration variables\n"
   ]
  },
  {
   "cell_type": "code",
   "execution_count": 1,
   "metadata": {
    "collapsed": false
   },
   "outputs": [],
   "source": [
    "import VocabService as vocab\n",
    "import diver.hiev as meta \n",
    "from diver.hiev import pretty_print_json as pjson\n",
    "\n",
    "# Set token and host url if you have not already edited the config.ini file\n",
    "meta.set_token('w5SPghuczm32WcQQaJ3m')\n",
    "meta.set_host('https://rdsi-emast4-vm.intersect.org.au')"
   ]
  },
  {
   "cell_type": "markdown",
   "metadata": {},
   "source": [
    "Any variable can easily have it's definition fetched by calling ***variableDefine*** and passing the variable's short name."
   ]
  },
  {
   "cell_type": "code",
   "execution_count": 23,
   "metadata": {
    "collapsed": false
   },
   "outputs": [
    {
     "name": "stdout",
     "output_type": "stream",
     "text": [
      "The definition of life_form: Plants life form is a classification that takes in account plants structural architecture (e.g. tree, shrub, herb, grass, fern, forb, etc). Same species can present different life form as a way to adapt to different environments. \n"
     ]
    }
   ],
   "source": [
    "print (\"The definition of life_form: \" + vocab.variableDefine('life_form'))"
   ]
  },
  {
   "cell_type": "markdown",
   "metadata": {},
   "source": [
    "The ***vocabLookup*** function allows any column to be extracted for a variable by specifying the variables short name and then giving the name of the column you would like returned. The contents of the column being fetched is returned as a single string."
   ]
  },
  {
   "cell_type": "code",
   "execution_count": 24,
   "metadata": {
    "collapsed": false
   },
   "outputs": [
    {
     "name": "stdout",
     "output_type": "stream",
     "text": [
      "The units of life_form: unitless\n",
      "\n",
      "The units of max_photo_A_sat_light_leaf_area: _mol CO2 m-2 s-1\n"
     ]
    }
   ],
   "source": [
    "print (\"The units of life_form: \" + vocab.Lookup('life_form', 'Unit') + \"\\n\")\n",
    "print (\"The units of max_photo_A_sat_light_leaf_area: \" + vocab.Lookup('max_photo_A_sat_light_leaf_area', 'Unit'))"
   ]
  },
  {
   "cell_type": "markdown",
   "metadata": {},
   "source": [
    "## There are lots of other functions for returning information from the Vocab Service\n",
    "\n",
    "The following functions all return lists of strings to return the results of queries that may have multiple matches. "
   ]
  },
  {
   "cell_type": "code",
   "execution_count": 25,
   "metadata": {
    "collapsed": false
   },
   "outputs": [
    {
     "name": "stdout",
     "output_type": "stream",
     "text": [
      "Variables in the category Isotypes:\n",
      "  carbon_isotope_delta_13\n",
      "  trans_leaf_area_sat_light\n",
      "  stomatal_cond_leaf_area_sat_light\n",
      "  max_height\n",
      "  huber_value\n",
      "  max_electron_transport_leaf_area_25_celsius\n",
      "  leaf_area_index_LAI_vert_photography\n",
      "  leaf_area_index_LAI_aerial\n",
      "  leaf_area\n",
      "  life_form\n",
      "  leaf_dry_mass\n",
      "  leaf_dry_mass_per_area\n",
      "  leaf_width_dim\n",
      "  midday_leaf_water_potential\n",
      "  Nitrogen_N_mass\n",
      "  pre_dawn_leaf_water_potential\n",
      "  light_use_efficiency\n",
      "  Phosphorus_P_mass\n",
      "\n",
      "Categories that leaf_area is in:\n",
      "  Isotopes\n",
      "\n",
      "Labels for max_photo_A_sat_light_leaf_area: \n",
      "  maximum\n",
      "   photosynthesis\n",
      "   saturated light\n",
      "   leaf area\n",
      "\n",
      "Labels for quantum_yeld:\n",
      "  leaf\n",
      "   quantum yield\n",
      "\n",
      "Variables with the label 'leaf':\n",
      "  leaf_dry_mass\n",
      "  leaf_dry_mass_per_area\n",
      "  leaf_width_dim\n",
      "  midday_leaf_water_potential\n",
      "  quantum_yeld\n",
      "\n",
      "Variables with the word 'carbon' in their definition:\n",
      "  max_photo_A_sat_light_leaf_area\n",
      "  max_photo_A_sat_light_CO2_leaf_area\n",
      "  max_carboxylation_leaf_area\n",
      "  max_electron_transport_leaf_area\n",
      "  dark_resp_leaf_area\n",
      "  max_photo_A_sat_light_leaf_area_25_celsius\n",
      "  ci_ca\n",
      "  stomatal_cond_leaf_area_sat_light\n",
      "  max_electron_transport_leaf_area_25_celsius\n",
      "  leaf_area\n",
      "  leaf_dry_mass\n",
      "  leaf_dry_mass_per_area\n",
      "  leaf_width_dim\n",
      "  Nitrogen_N_mass\n",
      "  light_use_efficiency\n",
      "  biochemistry_pathway\n",
      "  quantum_yeld\n",
      "  dark_resp_leaf_area_25_celsius\n",
      "  total_root_biomass_ground_area\n",
      "  root_depth\n",
      "  root_resist\n",
      "  soil_resist_close_root\n",
      "  soil_carbon\n",
      "  soil_nitrogen_N\n",
      "  leaf_temp\n",
      "  max_carboxylation_leaf_area_25_celsius\n",
      "  max_PEP_leaf_area_25_celsius\n",
      "  wood_dens\n",
      "  wood_dens_fresh\n"
     ]
    }
   ],
   "source": [
    "print (\"Variables in the category Isotypes:\\n  \" + '\\n  '.join(vocab.listVariables('Isotopes')))\n",
    "print ()\n",
    "print (\"Categories that leaf_area is in:\\n  \" + '\\n  '.join(vocab.variableCategories('leaf_area')))\n",
    "print ()\n",
    "print (\"Labels for max_photo_A_sat_light_leaf_area: \\n  \" + '\\n  '.join(vocab.listLabels('max_photo_A_sat_light_leaf_area')))\n",
    "print ()\n",
    "print (\"Labels for quantum_yeld:\\n  \" + '\\n  '.join(vocab.listLabels('quantum_yeld')))\n",
    "print ()\n",
    "print (\"Variables with the label 'leaf':\\n  \" + '\\n  '.join(vocab.variablesWithLabel('leaf')))\n",
    "print ()\n",
    "print (\"Variables with the word 'carbon' in their definition:\\n  \" + '\\n  '.join(vocab.variablesDefinedWith('carbon')))"
   ]
  },
  {
   "cell_type": "markdown",
   "metadata": {},
   "source": [
    "## Querying a NetCDF file directly once the file location has been fetched\n",
    "\n",
    "The ***variablesIn*** function returns a list of the variables that are contained within a file. This information is obtained by opening the file directly and querying it. The Vocab Service is then queries once per variable to fetch the definition for all the variables."
   ]
  },
  {
   "cell_type": "code",
   "execution_count": 26,
   "metadata": {
    "collapsed": false
   },
   "outputs": [
    {
     "ename": "RuntimeError",
     "evalue": "No such file or directory",
     "output_type": "error",
     "traceback": [
      "\u001b[0;31m---------------------------------------------------------------------------\u001b[0m",
      "\u001b[0;31mRuntimeError\u001b[0m                              Traceback (most recent call last)",
      "\u001b[0;32m<ipython-input-26-e4f19d31ae61>\u001b[0m in \u001b[0;36m<module>\u001b[0;34m()\u001b[0m\n\u001b[0;32m----> 1\u001b[0;31m \u001b[0mvariables\u001b[0m \u001b[0;34m=\u001b[0m \u001b[0mvocab\u001b[0m\u001b[0;34m.\u001b[0m\u001b[0mvariablesIn\u001b[0m\u001b[0;34m(\u001b[0m\u001b[0;34m'eMAST_eWATCH_day_prec_v1m0_1979_2012_19900701.nc'\u001b[0m\u001b[0;34m)\u001b[0m\u001b[0;34m\u001b[0m\u001b[0m\n\u001b[0m\u001b[1;32m      2\u001b[0m \u001b[0mprint\u001b[0m\u001b[0;34m(\u001b[0m\u001b[0mvariables\u001b[0m\u001b[0;34m)\u001b[0m\u001b[0;34m\u001b[0m\u001b[0m\n\u001b[1;32m      3\u001b[0m \u001b[0mprint\u001b[0m\u001b[0;34m(\u001b[0m\u001b[0;34m)\u001b[0m\u001b[0;34m\u001b[0m\u001b[0m\n\u001b[1;32m      4\u001b[0m \u001b[0;32mfor\u001b[0m \u001b[0mvariable\u001b[0m \u001b[0;32min\u001b[0m \u001b[0mvariables\u001b[0m\u001b[0;34m:\u001b[0m\u001b[0;34m\u001b[0m\u001b[0m\n\u001b[1;32m      5\u001b[0m     \u001b[0mprint\u001b[0m \u001b[0;34m(\u001b[0m\u001b[0mvariable\u001b[0m \u001b[0;34m+\u001b[0m \u001b[0;34m\": \"\u001b[0m \u001b[0;34m+\u001b[0m \u001b[0mvocab\u001b[0m\u001b[0;34m.\u001b[0m\u001b[0mvariableDefine\u001b[0m\u001b[0;34m(\u001b[0m\u001b[0mvariable\u001b[0m\u001b[0;34m)\u001b[0m\u001b[0;34m)\u001b[0m\u001b[0;34m\u001b[0m\u001b[0m\n",
      "\u001b[0;32m/Users/stuart/divermodc/notebook/VocabService.py\u001b[0m in \u001b[0;36mvariablesIn\u001b[0;34m(Filename)\u001b[0m\n\u001b[1;32m     20\u001b[0m \u001b[0;32mdef\u001b[0m \u001b[0mvariablesIn\u001b[0m\u001b[0;34m(\u001b[0m\u001b[0mFilename\u001b[0m\u001b[0;34m)\u001b[0m\u001b[0;34m:\u001b[0m\u001b[0;34m\u001b[0m\u001b[0m\n\u001b[1;32m     21\u001b[0m     \u001b[0mshort_names\u001b[0m \u001b[0;34m=\u001b[0m \u001b[0;34m[\u001b[0m\u001b[0;34m]\u001b[0m\u001b[0;34m\u001b[0m\u001b[0m\n\u001b[0;32m---> 22\u001b[0;31m     \u001b[0mrootgrp\u001b[0m \u001b[0;34m=\u001b[0m \u001b[0mDataset\u001b[0m\u001b[0;34m(\u001b[0m\u001b[0mFilename\u001b[0m\u001b[0;34m,\u001b[0m \u001b[0;34m'r'\u001b[0m\u001b[0;34m)\u001b[0m\u001b[0;34m\u001b[0m\u001b[0m\n\u001b[0m\u001b[1;32m     23\u001b[0m     \u001b[0mvariables\u001b[0m \u001b[0;34m=\u001b[0m \u001b[0mrootgrp\u001b[0m\u001b[0;34m.\u001b[0m\u001b[0mvariables\u001b[0m\u001b[0;34m.\u001b[0m\u001b[0mkeys\u001b[0m\u001b[0;34m(\u001b[0m\u001b[0;34m)\u001b[0m\u001b[0;34m\u001b[0m\u001b[0m\n\u001b[1;32m     24\u001b[0m     \u001b[0;32mfor\u001b[0m \u001b[0mkey\u001b[0m \u001b[0;32min\u001b[0m \u001b[0mvariables\u001b[0m\u001b[0;34m:\u001b[0m\u001b[0;34m\u001b[0m\u001b[0m\n",
      "\u001b[0;32mnetCDF4.pyx\u001b[0m in \u001b[0;36mnetCDF4.Dataset.__init__ (netCDF4.c:21986)\u001b[0;34m()\u001b[0m\n",
      "\u001b[0;31mRuntimeError\u001b[0m: No such file or directory"
     ]
    }
   ],
   "source": [
    "variables = vocab.variablesIn('eMAST_eWATCH_day_prec_v1m0_1979_2012_19900701.nc')\n",
    "print(variables)\n",
    "print()\n",
    "for variable in variables:\n",
    "    print (variable + \": \" + vocab.variableDefine(variable))\n"
   ]
  },
  {
   "cell_type": "markdown",
   "metadata": {},
   "source": [
    "## Fetching a list of files and their full paths from DIVER\n",
    "\n",
    "This example searches for a list of files by date range and product (there are many other ways to search for a file), then displays the metadata for the file that is returned by DIVER."
   ]
  },
  {
   "cell_type": "code",
   "execution_count": 27,
   "metadata": {
    "collapsed": false
   },
   "outputs": [
    {
     "name": "stdout",
     "output_type": "stream",
     "text": [
      "7646: /emast/data/meta/eMAST_eWATCH_day_snow_v1m0_1979_2012_19900302.nc\n",
      "7647: /emast/data/meta/eMAST_eWATCH_day_snow_v1m0_1979_2012_19900301.nc\n",
      "7666: /emast/data/meta/eMAST_eWATCH_day_snow_v1m0_1979_2012_19900218.nc\n",
      "7678: /emast/data/meta/eMAST_eWATCH_day_snow_v1m0_1979_2012_19900227.nc\n",
      "7679: /emast/data/meta/eMAST_eWATCH_day_snow_v1m0_1979_2012_19900226.nc\n",
      "7680: /emast/data/meta/eMAST_eWATCH_day_snow_v1m0_1979_2012_19900225.nc\n",
      "7681: /emast/data/meta/eMAST_eWATCH_day_snow_v1m0_1979_2012_19900224.nc\n",
      "7682: /emast/data/meta/eMAST_eWATCH_day_snow_v1m0_1979_2012_19900223.nc\n",
      "7683: /emast/data/meta/eMAST_eWATCH_day_snow_v1m0_1979_2012_19900222.nc\n",
      "7684: /emast/data/meta/eMAST_eWATCH_day_snow_v1m0_1979_2012_19900221.nc\n",
      "7685: /emast/data/meta/eMAST_eWATCH_day_snow_v1m0_1979_2012_19900220.nc\n",
      "7686: /emast/data/meta/eMAST_eWATCH_day_snow_v1m0_1979_2012_19900219.nc\n",
      "7687: /emast/data/meta/eMAST_eWATCH_day_snow_v1m0_1979_2012_19900217.nc\n",
      "7688: /emast/data/meta/eMAST_eWATCH_day_snow_v1m0_1979_2012_19900216.nc\n",
      "7689: /emast/data/meta/eMAST_eWATCH_day_snow_v1m0_1979_2012_19900215.nc\n",
      "7690: /emast/data/meta/eMAST_eWATCH_day_snow_v1m0_1979_2012_19900214.nc\n",
      "7691: /emast/data/meta/eMAST_eWATCH_day_snow_v1m0_1979_2012_19900213.nc\n",
      "7692: /emast/data/meta/eMAST_eWATCH_day_snow_v1m0_1979_2012_19900212.nc\n",
      "7693: /emast/data/meta/eMAST_eWATCH_day_snow_v1m0_1979_2012_19900211.nc\n",
      "7694: /emast/data/meta/eMAST_eWATCH_day_snow_v1m0_1979_2012_19900210.nc\n",
      "7695: /emast/data/meta/eMAST_eWATCH_day_snow_v1m0_1979_2012_19900209.nc\n",
      "7696: /emast/data/meta/eMAST_eWATCH_day_snow_v1m0_1979_2012_19900208.nc\n",
      "7699: /emast/data/meta/eMAST_eWATCH_day_snow_v1m0_1979_2012_19900207.nc\n",
      "7700: /emast/data/meta/eMAST_eWATCH_day_snow_v1m0_1979_2012_19900206.nc\n",
      "7701: /emast/data/meta/eMAST_eWATCH_day_snow_v1m0_1979_2012_19900205.nc\n",
      "7702: /emast/data/meta/eMAST_eWATCH_day_snow_v1m0_1979_2012_19900204.nc\n",
      "7703: /emast/data/meta/eMAST_eWATCH_day_snow_v1m0_1979_2012_19900203.nc\n",
      "7704: /emast/data/meta/eMAST_eWATCH_day_snow_v1m0_1979_2012_19900202.nc\n",
      "7705: /emast/data/meta/eMAST_eWATCH_day_snow_v1m0_1979_2012_19900201.nc\n",
      "7729: /emast/data/meta/eMAST_eWATCH_day_snow_v1m0_1979_2012_19900126.nc\n",
      "7730: /emast/data/meta/eMAST_eWATCH_day_snow_v1m0_1979_2012_19900115.nc\n",
      "7738: /emast/data/meta/eMAST_eWATCH_day_snow_v1m0_1979_2012_19900129.nc\n",
      "7739: /emast/data/meta/eMAST_eWATCH_day_snow_v1m0_1979_2012_19900128.nc\n",
      "7740: /emast/data/meta/eMAST_eWATCH_day_snow_v1m0_1979_2012_19900127.nc\n",
      "7741: /emast/data/meta/eMAST_eWATCH_day_snow_v1m0_1979_2012_19900125.nc\n",
      "7742: /emast/data/meta/eMAST_eWATCH_day_snow_v1m0_1979_2012_19900124.nc\n",
      "7743: /emast/data/meta/eMAST_eWATCH_day_snow_v1m0_1979_2012_19900123.nc\n",
      "7744: /emast/data/meta/eMAST_eWATCH_day_snow_v1m0_1979_2012_19900122.nc\n",
      "7745: /emast/data/meta/eMAST_eWATCH_day_snow_v1m0_1979_2012_19900121.nc\n",
      "7746: /emast/data/meta/eMAST_eWATCH_day_snow_v1m0_1979_2012_19900120.nc\n",
      "7747: /emast/data/meta/eMAST_eWATCH_day_snow_v1m0_1979_2012_19900119.nc\n",
      "7748: /emast/data/meta/eMAST_eWATCH_day_snow_v1m0_1979_2012_19900118.nc\n",
      "7749: /emast/data/meta/eMAST_eWATCH_day_snow_v1m0_1979_2012_19900117.nc\n",
      "7750: /emast/data/meta/eMAST_eWATCH_day_snow_v1m0_1979_2012_19900116.nc\n",
      "7751: /emast/data/meta/eMAST_eWATCH_day_snow_v1m0_1979_2012_19900114.nc\n",
      "7752: /emast/data/meta/eMAST_eWATCH_day_snow_v1m0_1979_2012_19900113.nc\n",
      "7753: /emast/data/meta/eMAST_eWATCH_day_snow_v1m0_1979_2012_19900112.nc\n",
      "7754: /emast/data/meta/eMAST_eWATCH_day_snow_v1m0_1979_2012_19900111.nc\n",
      "7755: /emast/data/meta/eMAST_eWATCH_day_snow_v1m0_1979_2012_19900110.nc\n",
      "7756: /emast/data/meta/eMAST_eWATCH_day_snow_v1m0_1979_2012_19900109.nc\n",
      "7757: /emast/data/meta/eMAST_eWATCH_day_snow_v1m0_1979_2012_19900108.nc\n",
      "7758: /emast/data/meta/eMAST_eWATCH_day_snow_v1m0_1979_2012_19900107.nc\n",
      "7759: /emast/data/meta/eMAST_eWATCH_day_snow_v1m0_1979_2012_19900106.nc\n",
      "7760: /emast/data/meta/eMAST_eWATCH_day_snow_v1m0_1979_2012_19900105.nc\n",
      "7763: /emast/data/meta/eMAST_eWATCH_day_snow_v1m0_1979_2012_19900104.nc\n",
      "7764: /emast/data/meta/eMAST_eWATCH_day_snow_v1m0_1979_2012_19900103.nc\n",
      "7765: /emast/data/meta/eMAST_eWATCH_day_snow_v1m0_1979_2012_19900102.nc\n",
      "7851: /emast/data/meta/eMAST_eWATCH_day_snow_v1m0_1979_2012_19900130.nc\n",
      "\n",
      "Posting Query to https://rdsi-emast4-vm.intersect.org.au/data_files/api_search\n",
      "Search results: 1\n",
      "Files returned:\n",
      "Filename: eMAST_eWATCH_day_snow_v1m0_1979_2012_19900302.nc ID: 7646\n",
      "\n",
      "[{'file_processing_description': '', 'path': '/emast/data/meta/eMAST_eWATCH_day_snow_v1m0_1979_2012_19900302.nc', 'filename': 'eMAST_eWATCH_day_snow_v1m0_1979_2012_19900302.nc', 'format': 'NETCDF', 'experiment_id': 4, 'published_by_id': None, 'created_by_id': 7, 'interval': None, 'file_processing_status': 'CLEANSED', 'published_date': None, 'file_id': 7646, 'published': False, 'start_time': '1990-03-02T01:00:00+11:00', 'id': 'eMAST_eWATCH_day_snow_v1m0_1979_2012__1990-03-02 01:00_1990-03-02 01:00', 'facility_id': 4, 'file_size': 1066696.0, 'url': 'https://rdsi-emast4-vm.intersect.org.au/data_files/7646/download.json', 'created_at': '2015-03-25T16:39:10+11:00', 'end_time': '1990-03-02T01:00:00+11:00', 'updated_at': '2015-03-25T16:39:10+11:00'}]\n"
     ]
    }
   ],
   "source": [
    "# Search for all TOA5 and text files\n",
    "# Args: There are many available, for the full list of args and their format, \n",
    "# see https://github.com/IntersectAustralia/dc21-doc/blob/master/Search_API.md\n",
    "#results = meta.search(variables=['latitude'], )\n",
    "#print (results)\n",
    "\n",
    "results = meta.search(from_date='1990-01-01', to_date='1990-03-01', experiments=['4'], quiet=True)\n",
    "file_list = []\n",
    "\n",
    "for file in results:\n",
    "    print (str(file['file_id']) + \": \" + file['path'])\n",
    "    file_list.append(file['file_id'])\n",
    "    \n",
    "\n",
    "# This list of files could be allocated to a compute node to operate on.\n",
    "print()\n",
    "results = meta.search(file_id=file_list[0])\n",
    "print ()\n",
    "print (results)"
   ]
  },
  {
   "cell_type": "markdown",
   "metadata": {},
   "source": [
    "## Here are some queries that are needed to support tab completion\n",
    "\n",
    "The ability to get a list of all unqiue variables contained within a search. This is really about querying all the files returned by the search and building a list. The primary search here is likely to be a single product."
   ]
  },
  {
   "cell_type": "code",
   "execution_count": 28,
   "metadata": {
    "collapsed": false
   },
   "outputs": [
    {
     "ename": "RuntimeError",
     "evalue": "No such file or directory",
     "output_type": "error",
     "traceback": [
      "\u001b[0;31m---------------------------------------------------------------------------\u001b[0m",
      "\u001b[0;31mRuntimeError\u001b[0m                              Traceback (most recent call last)",
      "\u001b[0;32m<ipython-input-28-18d1a1d98064>\u001b[0m in \u001b[0;36m<module>\u001b[0;34m()\u001b[0m\n\u001b[1;32m      3\u001b[0m \u001b[0;34m\u001b[0m\u001b[0m\n\u001b[1;32m      4\u001b[0m \u001b[0;32mfor\u001b[0m \u001b[0mfile\u001b[0m \u001b[0;32min\u001b[0m \u001b[0mresults\u001b[0m\u001b[0;34m:\u001b[0m\u001b[0;34m\u001b[0m\u001b[0m\n\u001b[0;32m----> 5\u001b[0;31m     \u001b[0mvariables\u001b[0m \u001b[0;34m=\u001b[0m \u001b[0mvocab\u001b[0m\u001b[0;34m.\u001b[0m\u001b[0mvariablesIn\u001b[0m\u001b[0;34m(\u001b[0m\u001b[0mfile\u001b[0m\u001b[0;34m[\u001b[0m\u001b[0;34m'path'\u001b[0m\u001b[0;34m]\u001b[0m\u001b[0;34m)\u001b[0m\u001b[0;34m\u001b[0m\u001b[0m\n\u001b[0m\u001b[1;32m      6\u001b[0m     \u001b[0;32mfor\u001b[0m \u001b[0mvariable\u001b[0m \u001b[0;32min\u001b[0m \u001b[0mvariables\u001b[0m\u001b[0;34m:\u001b[0m\u001b[0;34m\u001b[0m\u001b[0m\n\u001b[1;32m      7\u001b[0m         \u001b[0;32mif\u001b[0m \u001b[0mvariable\u001b[0m \u001b[0;32mnot\u001b[0m \u001b[0;32min\u001b[0m \u001b[0mvariable_list\u001b[0m\u001b[0;34m:\u001b[0m\u001b[0;34m\u001b[0m\u001b[0m\n",
      "\u001b[0;32m/Users/stuart/divermodc/notebook/VocabService.py\u001b[0m in \u001b[0;36mvariablesIn\u001b[0;34m(Filename)\u001b[0m\n\u001b[1;32m     20\u001b[0m \u001b[0;32mdef\u001b[0m \u001b[0mvariablesIn\u001b[0m\u001b[0;34m(\u001b[0m\u001b[0mFilename\u001b[0m\u001b[0;34m)\u001b[0m\u001b[0;34m:\u001b[0m\u001b[0;34m\u001b[0m\u001b[0m\n\u001b[1;32m     21\u001b[0m     \u001b[0mshort_names\u001b[0m \u001b[0;34m=\u001b[0m \u001b[0;34m[\u001b[0m\u001b[0;34m]\u001b[0m\u001b[0;34m\u001b[0m\u001b[0m\n\u001b[0;32m---> 22\u001b[0;31m     \u001b[0mrootgrp\u001b[0m \u001b[0;34m=\u001b[0m \u001b[0mDataset\u001b[0m\u001b[0;34m(\u001b[0m\u001b[0mFilename\u001b[0m\u001b[0;34m,\u001b[0m \u001b[0;34m'r'\u001b[0m\u001b[0;34m)\u001b[0m\u001b[0;34m\u001b[0m\u001b[0m\n\u001b[0m\u001b[1;32m     23\u001b[0m     \u001b[0mvariables\u001b[0m \u001b[0;34m=\u001b[0m \u001b[0mrootgrp\u001b[0m\u001b[0;34m.\u001b[0m\u001b[0mvariables\u001b[0m\u001b[0;34m.\u001b[0m\u001b[0mkeys\u001b[0m\u001b[0;34m(\u001b[0m\u001b[0;34m)\u001b[0m\u001b[0;34m\u001b[0m\u001b[0m\n\u001b[1;32m     24\u001b[0m     \u001b[0;32mfor\u001b[0m \u001b[0mkey\u001b[0m \u001b[0;32min\u001b[0m \u001b[0mvariables\u001b[0m\u001b[0;34m:\u001b[0m\u001b[0;34m\u001b[0m\u001b[0m\n",
      "\u001b[0;32mnetCDF4.pyx\u001b[0m in \u001b[0;36mnetCDF4.Dataset.__init__ (netCDF4.c:21986)\u001b[0;34m()\u001b[0m\n",
      "\u001b[0;31mRuntimeError\u001b[0m: No such file or directory"
     ]
    }
   ],
   "source": [
    "results = meta.search(from_date='1990-01-01', to_date='1990-03-01', experiments=['4'], quiet=True)\n",
    "variable_list = []\n",
    "\n",
    "for file in results:\n",
    "    variables = vocab.variablesIn(file['path'])\n",
    "    for variable in variables:\n",
    "        if variable not in variable_list:\n",
    "            variable_list.append(variable)\n",
    "            \n",
    "print (variable_list)"
   ]
  },
  {
   "cell_type": "markdown",
   "metadata": {},
   "source": [
    "The ability to list all the products that contain data with a specified variable. This is primarily to drive the tab-completion.\n",
    "\n",
    "Build the list of unique variables in a product (using the code above), index it in a map by product. This may be slow and should be cached somehow."
   ]
  },
  {
   "cell_type": "code",
   "execution_count": 29,
   "metadata": {
    "collapsed": false
   },
   "outputs": [
    {
     "name": "stdout",
     "output_type": "stream",
     "text": [
      "[{'file_processing_description': '', 'path': '/emast/data/meta/eMAST_eWATCH_day_snow_v1m0_1979_2012_19900302.nc', 'filename': 'eMAST_eWATCH_day_snow_v1m0_1979_2012_19900302.nc', 'format': 'NETCDF', 'experiment_id': 4, 'published_by_id': None, 'created_by_id': 7, 'interval': None, 'file_processing_status': 'CLEANSED', 'published_date': None, 'file_id': 7646, 'published': False, 'start_time': '1990-03-02T01:00:00+11:00', 'id': 'eMAST_eWATCH_day_snow_v1m0_1979_2012__1990-03-02 01:00_1990-03-02 01:00', 'facility_id': 4, 'file_size': 1066696.0, 'url': 'https://rdsi-emast4-vm.intersect.org.au/data_files/7646/download.json', 'created_at': '2015-03-25T16:39:10+11:00', 'end_time': '1990-03-02T01:00:00+11:00', 'updated_at': '2015-03-25T16:39:10+11:00'}, {'file_processing_description': '', 'path': '/emast/data/meta/eMAST_eWATCH_day_snow_v1m0_1979_2012_19900301.nc', 'filename': 'eMAST_eWATCH_day_snow_v1m0_1979_2012_19900301.nc', 'format': 'NETCDF', 'experiment_id': 4, 'published_by_id': None, 'created_by_id': 7, 'interval': None, 'file_processing_status': 'CLEANSED', 'published_date': None, 'file_id': 7647, 'published': False, 'start_time': '1990-03-01T01:00:00+11:00', 'id': 'eMAST_eWATCH_day_snow_v1m0_1979_2012__1990-03-01 01:00_1990-03-01 01:00', 'facility_id': 4, 'file_size': 1066696.0, 'url': 'https://rdsi-emast4-vm.intersect.org.au/data_files/7647/download.json', 'created_at': '2015-03-25T16:39:11+11:00', 'end_time': '1990-03-01T01:00:00+11:00', 'updated_at': '2015-03-25T16:39:11+11:00'}, {'file_processing_description': '', 'path': '/emast/data/meta/eMAST_eWATCH_day_snow_v1m0_1979_2012_19900218.nc', 'filename': 'eMAST_eWATCH_day_snow_v1m0_1979_2012_19900218.nc', 'format': 'NETCDF', 'experiment_id': 4, 'published_by_id': None, 'created_by_id': 7, 'interval': None, 'file_processing_status': 'CLEANSED', 'published_date': None, 'file_id': 7666, 'published': False, 'start_time': '1990-02-18T01:00:00+11:00', 'id': 'eMAST_eWATCH_day_snow_v1m0_1979_2012__1990-02-18 01:00_1990-02-18 01:00', 'facility_id': 4, 'file_size': 1066696.0, 'url': 'https://rdsi-emast4-vm.intersect.org.au/data_files/7666/download.json', 'created_at': '2015-03-25T16:39:28+11:00', 'end_time': '1990-02-18T01:00:00+11:00', 'updated_at': '2015-03-25T16:39:28+11:00'}, {'file_processing_description': '', 'path': '/emast/data/meta/eMAST_eWATCH_day_snow_v1m0_1979_2012_19900227.nc', 'filename': 'eMAST_eWATCH_day_snow_v1m0_1979_2012_19900227.nc', 'format': 'NETCDF', 'experiment_id': 4, 'published_by_id': None, 'created_by_id': 7, 'interval': None, 'file_processing_status': 'CLEANSED', 'published_date': None, 'file_id': 7678, 'published': False, 'start_time': '1990-02-27T01:00:00+11:00', 'id': 'eMAST_eWATCH_day_snow_v1m0_1979_2012__1990-02-27 01:00_1990-02-27 01:00', 'facility_id': 4, 'file_size': 1066696.0, 'url': 'https://rdsi-emast4-vm.intersect.org.au/data_files/7678/download.json', 'created_at': '2015-03-25T16:39:37+11:00', 'end_time': '1990-02-27T01:00:00+11:00', 'updated_at': '2015-03-25T16:39:38+11:00'}, {'file_processing_description': '', 'path': '/emast/data/meta/eMAST_eWATCH_day_snow_v1m0_1979_2012_19900226.nc', 'filename': 'eMAST_eWATCH_day_snow_v1m0_1979_2012_19900226.nc', 'format': 'NETCDF', 'experiment_id': 4, 'published_by_id': None, 'created_by_id': 7, 'interval': None, 'file_processing_status': 'CLEANSED', 'published_date': None, 'file_id': 7679, 'published': False, 'start_time': '1990-02-26T01:00:00+11:00', 'id': 'eMAST_eWATCH_day_snow_v1m0_1979_2012__1990-02-26 01:00_1990-02-26 01:00', 'facility_id': 4, 'file_size': 1066696.0, 'url': 'https://rdsi-emast4-vm.intersect.org.au/data_files/7679/download.json', 'created_at': '2015-03-25T16:39:38+11:00', 'end_time': '1990-02-26T01:00:00+11:00', 'updated_at': '2015-03-25T16:39:38+11:00'}, {'file_processing_description': '', 'path': '/emast/data/meta/eMAST_eWATCH_day_snow_v1m0_1979_2012_19900225.nc', 'filename': 'eMAST_eWATCH_day_snow_v1m0_1979_2012_19900225.nc', 'format': 'NETCDF', 'experiment_id': 4, 'published_by_id': None, 'created_by_id': 7, 'interval': None, 'file_processing_status': 'CLEANSED', 'published_date': None, 'file_id': 7680, 'published': False, 'start_time': '1990-02-25T01:00:00+11:00', 'id': 'eMAST_eWATCH_day_snow_v1m0_1979_2012__1990-02-25 01:00_1990-02-25 01:00', 'facility_id': 4, 'file_size': 1066696.0, 'url': 'https://rdsi-emast4-vm.intersect.org.au/data_files/7680/download.json', 'created_at': '2015-03-25T16:39:39+11:00', 'end_time': '1990-02-25T01:00:00+11:00', 'updated_at': '2015-03-25T16:39:39+11:00'}, {'file_processing_description': '', 'path': '/emast/data/meta/eMAST_eWATCH_day_snow_v1m0_1979_2012_19900224.nc', 'filename': 'eMAST_eWATCH_day_snow_v1m0_1979_2012_19900224.nc', 'format': 'NETCDF', 'experiment_id': 4, 'published_by_id': None, 'created_by_id': 7, 'interval': None, 'file_processing_status': 'CLEANSED', 'published_date': None, 'file_id': 7681, 'published': False, 'start_time': '1990-02-24T01:00:00+11:00', 'id': 'eMAST_eWATCH_day_snow_v1m0_1979_2012__1990-02-24 01:00_1990-02-24 01:00', 'facility_id': 4, 'file_size': 1066696.0, 'url': 'https://rdsi-emast4-vm.intersect.org.au/data_files/7681/download.json', 'created_at': '2015-03-25T16:39:40+11:00', 'end_time': '1990-02-24T01:00:00+11:00', 'updated_at': '2015-03-25T16:39:40+11:00'}, {'file_processing_description': '', 'path': '/emast/data/meta/eMAST_eWATCH_day_snow_v1m0_1979_2012_19900223.nc', 'filename': 'eMAST_eWATCH_day_snow_v1m0_1979_2012_19900223.nc', 'format': 'NETCDF', 'experiment_id': 4, 'published_by_id': None, 'created_by_id': 7, 'interval': None, 'file_processing_status': 'CLEANSED', 'published_date': None, 'file_id': 7682, 'published': False, 'start_time': '1990-02-23T01:00:00+11:00', 'id': 'eMAST_eWATCH_day_snow_v1m0_1979_2012__1990-02-23 01:00_1990-02-23 01:00', 'facility_id': 4, 'file_size': 1066696.0, 'url': 'https://rdsi-emast4-vm.intersect.org.au/data_files/7682/download.json', 'created_at': '2015-03-25T16:39:41+11:00', 'end_time': '1990-02-23T01:00:00+11:00', 'updated_at': '2015-03-25T16:39:41+11:00'}, {'file_processing_description': '', 'path': '/emast/data/meta/eMAST_eWATCH_day_snow_v1m0_1979_2012_19900222.nc', 'filename': 'eMAST_eWATCH_day_snow_v1m0_1979_2012_19900222.nc', 'format': 'NETCDF', 'experiment_id': 4, 'published_by_id': None, 'created_by_id': 7, 'interval': None, 'file_processing_status': 'CLEANSED', 'published_date': None, 'file_id': 7683, 'published': False, 'start_time': '1990-02-22T01:00:00+11:00', 'id': 'eMAST_eWATCH_day_snow_v1m0_1979_2012__1990-02-22 01:00_1990-02-22 01:00', 'facility_id': 4, 'file_size': 1066696.0, 'url': 'https://rdsi-emast4-vm.intersect.org.au/data_files/7683/download.json', 'created_at': '2015-03-25T16:39:42+11:00', 'end_time': '1990-02-22T01:00:00+11:00', 'updated_at': '2015-03-25T16:39:42+11:00'}, {'file_processing_description': '', 'path': '/emast/data/meta/eMAST_eWATCH_day_snow_v1m0_1979_2012_19900221.nc', 'filename': 'eMAST_eWATCH_day_snow_v1m0_1979_2012_19900221.nc', 'format': 'NETCDF', 'experiment_id': 4, 'published_by_id': None, 'created_by_id': 7, 'interval': None, 'file_processing_status': 'CLEANSED', 'published_date': None, 'file_id': 7684, 'published': False, 'start_time': '1990-02-21T01:00:00+11:00', 'id': 'eMAST_eWATCH_day_snow_v1m0_1979_2012__1990-02-21 01:00_1990-02-21 01:00', 'facility_id': 4, 'file_size': 1066696.0, 'url': 'https://rdsi-emast4-vm.intersect.org.au/data_files/7684/download.json', 'created_at': '2015-03-25T16:39:43+11:00', 'end_time': '1990-02-21T01:00:00+11:00', 'updated_at': '2015-03-25T16:39:43+11:00'}, {'file_processing_description': '', 'path': '/emast/data/meta/eMAST_eWATCH_day_snow_v1m0_1979_2012_19900220.nc', 'filename': 'eMAST_eWATCH_day_snow_v1m0_1979_2012_19900220.nc', 'format': 'NETCDF', 'experiment_id': 4, 'published_by_id': None, 'created_by_id': 7, 'interval': None, 'file_processing_status': 'CLEANSED', 'published_date': None, 'file_id': 7685, 'published': False, 'start_time': '1990-02-20T01:00:00+11:00', 'id': 'eMAST_eWATCH_day_snow_v1m0_1979_2012__1990-02-20 01:00_1990-02-20 01:00', 'facility_id': 4, 'file_size': 1066696.0, 'url': 'https://rdsi-emast4-vm.intersect.org.au/data_files/7685/download.json', 'created_at': '2015-03-25T16:39:44+11:00', 'end_time': '1990-02-20T01:00:00+11:00', 'updated_at': '2015-03-25T16:39:44+11:00'}, {'file_processing_description': '', 'path': '/emast/data/meta/eMAST_eWATCH_day_snow_v1m0_1979_2012_19900219.nc', 'filename': 'eMAST_eWATCH_day_snow_v1m0_1979_2012_19900219.nc', 'format': 'NETCDF', 'experiment_id': 4, 'published_by_id': None, 'created_by_id': 7, 'interval': None, 'file_processing_status': 'CLEANSED', 'published_date': None, 'file_id': 7686, 'published': False, 'start_time': '1990-02-19T01:00:00+11:00', 'id': 'eMAST_eWATCH_day_snow_v1m0_1979_2012__1990-02-19 01:00_1990-02-19 01:00', 'facility_id': 4, 'file_size': 1066696.0, 'url': 'https://rdsi-emast4-vm.intersect.org.au/data_files/7686/download.json', 'created_at': '2015-03-25T16:39:44+11:00', 'end_time': '1990-02-19T01:00:00+11:00', 'updated_at': '2015-03-25T16:39:45+11:00'}, {'file_processing_description': '', 'path': '/emast/data/meta/eMAST_eWATCH_day_snow_v1m0_1979_2012_19900217.nc', 'filename': 'eMAST_eWATCH_day_snow_v1m0_1979_2012_19900217.nc', 'format': 'NETCDF', 'experiment_id': 4, 'published_by_id': None, 'created_by_id': 7, 'interval': None, 'file_processing_status': 'CLEANSED', 'published_date': None, 'file_id': 7687, 'published': False, 'start_time': '1990-02-17T01:00:00+11:00', 'id': 'eMAST_eWATCH_day_snow_v1m0_1979_2012__1990-02-17 01:00_1990-02-17 01:00', 'facility_id': 4, 'file_size': 1066696.0, 'url': 'https://rdsi-emast4-vm.intersect.org.au/data_files/7687/download.json', 'created_at': '2015-03-25T16:39:45+11:00', 'end_time': '1990-02-17T01:00:00+11:00', 'updated_at': '2015-03-25T16:39:46+11:00'}, {'file_processing_description': '', 'path': '/emast/data/meta/eMAST_eWATCH_day_snow_v1m0_1979_2012_19900216.nc', 'filename': 'eMAST_eWATCH_day_snow_v1m0_1979_2012_19900216.nc', 'format': 'NETCDF', 'experiment_id': 4, 'published_by_id': None, 'created_by_id': 7, 'interval': None, 'file_processing_status': 'CLEANSED', 'published_date': None, 'file_id': 7688, 'published': False, 'start_time': '1990-02-16T01:00:00+11:00', 'id': 'eMAST_eWATCH_day_snow_v1m0_1979_2012__1990-02-16 01:00_1990-02-16 01:00', 'facility_id': 4, 'file_size': 1066696.0, 'url': 'https://rdsi-emast4-vm.intersect.org.au/data_files/7688/download.json', 'created_at': '2015-03-25T16:39:46+11:00', 'end_time': '1990-02-16T01:00:00+11:00', 'updated_at': '2015-03-25T16:39:46+11:00'}, {'file_processing_description': '', 'path': '/emast/data/meta/eMAST_eWATCH_day_snow_v1m0_1979_2012_19900215.nc', 'filename': 'eMAST_eWATCH_day_snow_v1m0_1979_2012_19900215.nc', 'format': 'NETCDF', 'experiment_id': 4, 'published_by_id': None, 'created_by_id': 7, 'interval': None, 'file_processing_status': 'CLEANSED', 'published_date': None, 'file_id': 7689, 'published': False, 'start_time': '1990-02-15T01:00:00+11:00', 'id': 'eMAST_eWATCH_day_snow_v1m0_1979_2012__1990-02-15 01:00_1990-02-15 01:00', 'facility_id': 4, 'file_size': 1066696.0, 'url': 'https://rdsi-emast4-vm.intersect.org.au/data_files/7689/download.json', 'created_at': '2015-03-25T16:39:47+11:00', 'end_time': '1990-02-15T01:00:00+11:00', 'updated_at': '2015-03-25T16:39:47+11:00'}, {'file_processing_description': '', 'path': '/emast/data/meta/eMAST_eWATCH_day_snow_v1m0_1979_2012_19900214.nc', 'filename': 'eMAST_eWATCH_day_snow_v1m0_1979_2012_19900214.nc', 'format': 'NETCDF', 'experiment_id': 4, 'published_by_id': None, 'created_by_id': 7, 'interval': None, 'file_processing_status': 'CLEANSED', 'published_date': None, 'file_id': 7690, 'published': False, 'start_time': '1990-02-14T01:00:00+11:00', 'id': 'eMAST_eWATCH_day_snow_v1m0_1979_2012__1990-02-14 01:00_1990-02-14 01:00', 'facility_id': 4, 'file_size': 1066696.0, 'url': 'https://rdsi-emast4-vm.intersect.org.au/data_files/7690/download.json', 'created_at': '2015-03-25T16:39:48+11:00', 'end_time': '1990-02-14T01:00:00+11:00', 'updated_at': '2015-03-25T16:39:48+11:00'}, {'file_processing_description': '', 'path': '/emast/data/meta/eMAST_eWATCH_day_snow_v1m0_1979_2012_19900213.nc', 'filename': 'eMAST_eWATCH_day_snow_v1m0_1979_2012_19900213.nc', 'format': 'NETCDF', 'experiment_id': 4, 'published_by_id': None, 'created_by_id': 7, 'interval': None, 'file_processing_status': 'CLEANSED', 'published_date': None, 'file_id': 7691, 'published': False, 'start_time': '1990-02-13T01:00:00+11:00', 'id': 'eMAST_eWATCH_day_snow_v1m0_1979_2012__1990-02-13 01:00_1990-02-13 01:00', 'facility_id': 4, 'file_size': 1066696.0, 'url': 'https://rdsi-emast4-vm.intersect.org.au/data_files/7691/download.json', 'created_at': '2015-03-25T16:39:50+11:00', 'end_time': '1990-02-13T01:00:00+11:00', 'updated_at': '2015-03-25T16:39:50+11:00'}, {'file_processing_description': '', 'path': '/emast/data/meta/eMAST_eWATCH_day_snow_v1m0_1979_2012_19900212.nc', 'filename': 'eMAST_eWATCH_day_snow_v1m0_1979_2012_19900212.nc', 'format': 'NETCDF', 'experiment_id': 4, 'published_by_id': None, 'created_by_id': 7, 'interval': None, 'file_processing_status': 'CLEANSED', 'published_date': None, 'file_id': 7692, 'published': False, 'start_time': '1990-02-12T01:00:00+11:00', 'id': 'eMAST_eWATCH_day_snow_v1m0_1979_2012__1990-02-12 01:00_1990-02-12 01:00', 'facility_id': 4, 'file_size': 1066696.0, 'url': 'https://rdsi-emast4-vm.intersect.org.au/data_files/7692/download.json', 'created_at': '2015-03-25T16:39:51+11:00', 'end_time': '1990-02-12T01:00:00+11:00', 'updated_at': '2015-03-25T16:39:51+11:00'}, {'file_processing_description': '', 'path': '/emast/data/meta/eMAST_eWATCH_day_snow_v1m0_1979_2012_19900211.nc', 'filename': 'eMAST_eWATCH_day_snow_v1m0_1979_2012_19900211.nc', 'format': 'NETCDF', 'experiment_id': 4, 'published_by_id': None, 'created_by_id': 7, 'interval': None, 'file_processing_status': 'CLEANSED', 'published_date': None, 'file_id': 7693, 'published': False, 'start_time': '1990-02-11T01:00:00+11:00', 'id': 'eMAST_eWATCH_day_snow_v1m0_1979_2012__1990-02-11 01:00_1990-02-11 01:00', 'facility_id': 4, 'file_size': 1066696.0, 'url': 'https://rdsi-emast4-vm.intersect.org.au/data_files/7693/download.json', 'created_at': '2015-03-25T16:39:52+11:00', 'end_time': '1990-02-11T01:00:00+11:00', 'updated_at': '2015-03-25T16:39:52+11:00'}, {'file_processing_description': '', 'path': '/emast/data/meta/eMAST_eWATCH_day_snow_v1m0_1979_2012_19900210.nc', 'filename': 'eMAST_eWATCH_day_snow_v1m0_1979_2012_19900210.nc', 'format': 'NETCDF', 'experiment_id': 4, 'published_by_id': None, 'created_by_id': 7, 'interval': None, 'file_processing_status': 'CLEANSED', 'published_date': None, 'file_id': 7694, 'published': False, 'start_time': '1990-02-10T01:00:00+11:00', 'id': 'eMAST_eWATCH_day_snow_v1m0_1979_2012__1990-02-10 01:00_1990-02-10 01:00', 'facility_id': 4, 'file_size': 1066696.0, 'url': 'https://rdsi-emast4-vm.intersect.org.au/data_files/7694/download.json', 'created_at': '2015-03-25T16:39:53+11:00', 'end_time': '1990-02-10T01:00:00+11:00', 'updated_at': '2015-03-25T16:39:53+11:00'}, {'file_processing_description': '', 'path': '/emast/data/meta/eMAST_eWATCH_day_snow_v1m0_1979_2012_19900209.nc', 'filename': 'eMAST_eWATCH_day_snow_v1m0_1979_2012_19900209.nc', 'format': 'NETCDF', 'experiment_id': 4, 'published_by_id': None, 'created_by_id': 7, 'interval': None, 'file_processing_status': 'CLEANSED', 'published_date': None, 'file_id': 7695, 'published': False, 'start_time': '1990-02-09T01:00:00+11:00', 'id': 'eMAST_eWATCH_day_snow_v1m0_1979_2012__1990-02-09 01:00_1990-02-09 01:00', 'facility_id': 4, 'file_size': 1066696.0, 'url': 'https://rdsi-emast4-vm.intersect.org.au/data_files/7695/download.json', 'created_at': '2015-03-25T16:39:54+11:00', 'end_time': '1990-02-09T01:00:00+11:00', 'updated_at': '2015-03-25T16:39:54+11:00'}, {'file_processing_description': '', 'path': '/emast/data/meta/eMAST_eWATCH_day_snow_v1m0_1979_2012_19900208.nc', 'filename': 'eMAST_eWATCH_day_snow_v1m0_1979_2012_19900208.nc', 'format': 'NETCDF', 'experiment_id': 4, 'published_by_id': None, 'created_by_id': 7, 'interval': None, 'file_processing_status': 'CLEANSED', 'published_date': None, 'file_id': 7696, 'published': False, 'start_time': '1990-02-08T01:00:00+11:00', 'id': 'eMAST_eWATCH_day_snow_v1m0_1979_2012__1990-02-08 01:00_1990-02-08 01:00', 'facility_id': 4, 'file_size': 1066696.0, 'url': 'https://rdsi-emast4-vm.intersect.org.au/data_files/7696/download.json', 'created_at': '2015-03-25T16:39:55+11:00', 'end_time': '1990-02-08T01:00:00+11:00', 'updated_at': '2015-03-25T16:39:55+11:00'}, {'file_processing_description': '', 'path': '/emast/data/meta/eMAST_eWATCH_day_snow_v1m0_1979_2012_19900207.nc', 'filename': 'eMAST_eWATCH_day_snow_v1m0_1979_2012_19900207.nc', 'format': 'NETCDF', 'experiment_id': 4, 'published_by_id': None, 'created_by_id': 7, 'interval': None, 'file_processing_status': 'CLEANSED', 'published_date': None, 'file_id': 7699, 'published': False, 'start_time': '1990-02-07T01:00:00+11:00', 'id': 'eMAST_eWATCH_day_snow_v1m0_1979_2012__1990-02-07 01:00_1990-02-07 01:00', 'facility_id': 4, 'file_size': 1066696.0, 'url': 'https://rdsi-emast4-vm.intersect.org.au/data_files/7699/download.json', 'created_at': '2015-03-25T16:39:58+11:00', 'end_time': '1990-02-07T01:00:00+11:00', 'updated_at': '2015-03-25T16:39:59+11:00'}, {'file_processing_description': '', 'path': '/emast/data/meta/eMAST_eWATCH_day_snow_v1m0_1979_2012_19900206.nc', 'filename': 'eMAST_eWATCH_day_snow_v1m0_1979_2012_19900206.nc', 'format': 'NETCDF', 'experiment_id': 4, 'published_by_id': None, 'created_by_id': 7, 'interval': None, 'file_processing_status': 'CLEANSED', 'published_date': None, 'file_id': 7700, 'published': False, 'start_time': '1990-02-06T01:00:00+11:00', 'id': 'eMAST_eWATCH_day_snow_v1m0_1979_2012__1990-02-06 01:00_1990-02-06 01:00', 'facility_id': 4, 'file_size': 1066696.0, 'url': 'https://rdsi-emast4-vm.intersect.org.au/data_files/7700/download.json', 'created_at': '2015-03-25T16:39:59+11:00', 'end_time': '1990-02-06T01:00:00+11:00', 'updated_at': '2015-03-25T16:40:00+11:00'}, {'file_processing_description': '', 'path': '/emast/data/meta/eMAST_eWATCH_day_snow_v1m0_1979_2012_19900205.nc', 'filename': 'eMAST_eWATCH_day_snow_v1m0_1979_2012_19900205.nc', 'format': 'NETCDF', 'experiment_id': 4, 'published_by_id': None, 'created_by_id': 7, 'interval': None, 'file_processing_status': 'CLEANSED', 'published_date': None, 'file_id': 7701, 'published': False, 'start_time': '1990-02-05T01:00:00+11:00', 'id': 'eMAST_eWATCH_day_snow_v1m0_1979_2012__1990-02-05 01:00_1990-02-05 01:00', 'facility_id': 4, 'file_size': 1066696.0, 'url': 'https://rdsi-emast4-vm.intersect.org.au/data_files/7701/download.json', 'created_at': '2015-03-25T16:40:00+11:00', 'end_time': '1990-02-05T01:00:00+11:00', 'updated_at': '2015-03-25T16:40:01+11:00'}, {'file_processing_description': '', 'path': '/emast/data/meta/eMAST_eWATCH_day_snow_v1m0_1979_2012_19900204.nc', 'filename': 'eMAST_eWATCH_day_snow_v1m0_1979_2012_19900204.nc', 'format': 'NETCDF', 'experiment_id': 4, 'published_by_id': None, 'created_by_id': 7, 'interval': None, 'file_processing_status': 'CLEANSED', 'published_date': None, 'file_id': 7702, 'published': False, 'start_time': '1990-02-04T01:00:00+11:00', 'id': 'eMAST_eWATCH_day_snow_v1m0_1979_2012__1990-02-04 01:00_1990-02-04 01:00', 'facility_id': 4, 'file_size': 1066696.0, 'url': 'https://rdsi-emast4-vm.intersect.org.au/data_files/7702/download.json', 'created_at': '2015-03-25T16:40:01+11:00', 'end_time': '1990-02-04T01:00:00+11:00', 'updated_at': '2015-03-25T16:40:02+11:00'}, {'file_processing_description': '', 'path': '/emast/data/meta/eMAST_eWATCH_day_snow_v1m0_1979_2012_19900203.nc', 'filename': 'eMAST_eWATCH_day_snow_v1m0_1979_2012_19900203.nc', 'format': 'NETCDF', 'experiment_id': 4, 'published_by_id': None, 'created_by_id': 7, 'interval': None, 'file_processing_status': 'CLEANSED', 'published_date': None, 'file_id': 7703, 'published': False, 'start_time': '1990-02-03T01:00:00+11:00', 'id': 'eMAST_eWATCH_day_snow_v1m0_1979_2012__1990-02-03 01:00_1990-02-03 01:00', 'facility_id': 4, 'file_size': 1066696.0, 'url': 'https://rdsi-emast4-vm.intersect.org.au/data_files/7703/download.json', 'created_at': '2015-03-25T16:40:02+11:00', 'end_time': '1990-02-03T01:00:00+11:00', 'updated_at': '2015-03-25T16:40:02+11:00'}, {'file_processing_description': '', 'path': '/emast/data/meta/eMAST_eWATCH_day_snow_v1m0_1979_2012_19900202.nc', 'filename': 'eMAST_eWATCH_day_snow_v1m0_1979_2012_19900202.nc', 'format': 'NETCDF', 'experiment_id': 4, 'published_by_id': None, 'created_by_id': 7, 'interval': None, 'file_processing_status': 'CLEANSED', 'published_date': None, 'file_id': 7704, 'published': False, 'start_time': '1990-02-02T01:00:00+11:00', 'id': 'eMAST_eWATCH_day_snow_v1m0_1979_2012__1990-02-02 01:00_1990-02-02 01:00', 'facility_id': 4, 'file_size': 1066696.0, 'url': 'https://rdsi-emast4-vm.intersect.org.au/data_files/7704/download.json', 'created_at': '2015-03-25T16:40:03+11:00', 'end_time': '1990-02-02T01:00:00+11:00', 'updated_at': '2015-03-25T16:40:04+11:00'}, {'file_processing_description': '', 'path': '/emast/data/meta/eMAST_eWATCH_day_snow_v1m0_1979_2012_19900201.nc', 'filename': 'eMAST_eWATCH_day_snow_v1m0_1979_2012_19900201.nc', 'format': 'NETCDF', 'experiment_id': 4, 'published_by_id': None, 'created_by_id': 7, 'interval': None, 'file_processing_status': 'CLEANSED', 'published_date': None, 'file_id': 7705, 'published': False, 'start_time': '1990-02-01T01:00:00+11:00', 'id': 'eMAST_eWATCH_day_snow_v1m0_1979_2012__1990-02-01 01:00_1990-02-01 01:00', 'facility_id': 4, 'file_size': 1066696.0, 'url': 'https://rdsi-emast4-vm.intersect.org.au/data_files/7705/download.json', 'created_at': '2015-03-25T16:40:05+11:00', 'end_time': '1990-02-01T01:00:00+11:00', 'updated_at': '2015-03-25T16:40:05+11:00'}, {'file_processing_description': '', 'path': '/emast/data/meta/eMAST_eWATCH_day_snow_v1m0_1979_2012_19900126.nc', 'filename': 'eMAST_eWATCH_day_snow_v1m0_1979_2012_19900126.nc', 'format': 'NETCDF', 'experiment_id': 4, 'published_by_id': None, 'created_by_id': 7, 'interval': None, 'file_processing_status': 'CLEANSED', 'published_date': None, 'file_id': 7729, 'published': False, 'start_time': '1990-01-26T01:00:00+11:00', 'id': 'eMAST_eWATCH_day_snow_v1m0_1979_2012__1990-01-26 01:00_1990-01-26 01:00', 'facility_id': 4, 'file_size': 1066696.0, 'url': 'https://rdsi-emast4-vm.intersect.org.au/data_files/7729/download.json', 'created_at': '2015-03-25T16:40:27+11:00', 'end_time': '1990-01-26T01:00:00+11:00', 'updated_at': '2015-03-25T16:40:27+11:00'}, {'file_processing_description': '', 'path': '/emast/data/meta/eMAST_eWATCH_day_snow_v1m0_1979_2012_19900115.nc', 'filename': 'eMAST_eWATCH_day_snow_v1m0_1979_2012_19900115.nc', 'format': 'NETCDF', 'experiment_id': 4, 'published_by_id': None, 'created_by_id': 7, 'interval': None, 'file_processing_status': 'CLEANSED', 'published_date': None, 'file_id': 7730, 'published': False, 'start_time': '1990-01-15T01:00:00+11:00', 'id': 'eMAST_eWATCH_day_snow_v1m0_1979_2012__1990-01-15 01:00_1990-01-15 01:00', 'facility_id': 4, 'file_size': 1066696.0, 'url': 'https://rdsi-emast4-vm.intersect.org.au/data_files/7730/download.json', 'created_at': '2015-03-25T16:40:28+11:00', 'end_time': '1990-01-15T01:00:00+11:00', 'updated_at': '2015-03-25T16:40:28+11:00'}, {'file_processing_description': '', 'path': '/emast/data/meta/eMAST_eWATCH_day_snow_v1m0_1979_2012_19900129.nc', 'filename': 'eMAST_eWATCH_day_snow_v1m0_1979_2012_19900129.nc', 'format': 'NETCDF', 'experiment_id': 4, 'published_by_id': None, 'created_by_id': 7, 'interval': None, 'file_processing_status': 'CLEANSED', 'published_date': None, 'file_id': 7738, 'published': False, 'start_time': '1990-01-29T01:00:00+11:00', 'id': 'eMAST_eWATCH_day_snow_v1m0_1979_2012__1990-01-29 01:00_1990-01-29 01:00', 'facility_id': 4, 'file_size': 1066696.0, 'url': 'https://rdsi-emast4-vm.intersect.org.au/data_files/7738/download.json', 'created_at': '2015-03-25T16:40:35+11:00', 'end_time': '1990-01-29T01:00:00+11:00', 'updated_at': '2015-03-25T16:40:35+11:00'}, {'file_processing_description': '', 'path': '/emast/data/meta/eMAST_eWATCH_day_snow_v1m0_1979_2012_19900128.nc', 'filename': 'eMAST_eWATCH_day_snow_v1m0_1979_2012_19900128.nc', 'format': 'NETCDF', 'experiment_id': 4, 'published_by_id': None, 'created_by_id': 7, 'interval': None, 'file_processing_status': 'CLEANSED', 'published_date': None, 'file_id': 7739, 'published': False, 'start_time': '1990-01-28T01:00:00+11:00', 'id': 'eMAST_eWATCH_day_snow_v1m0_1979_2012__1990-01-28 01:00_1990-01-28 01:00', 'facility_id': 4, 'file_size': 1066696.0, 'url': 'https://rdsi-emast4-vm.intersect.org.au/data_files/7739/download.json', 'created_at': '2015-03-25T16:40:35+11:00', 'end_time': '1990-01-28T01:00:00+11:00', 'updated_at': '2015-03-25T16:40:36+11:00'}, {'file_processing_description': '', 'path': '/emast/data/meta/eMAST_eWATCH_day_snow_v1m0_1979_2012_19900127.nc', 'filename': 'eMAST_eWATCH_day_snow_v1m0_1979_2012_19900127.nc', 'format': 'NETCDF', 'experiment_id': 4, 'published_by_id': None, 'created_by_id': 7, 'interval': None, 'file_processing_status': 'CLEANSED', 'published_date': None, 'file_id': 7740, 'published': False, 'start_time': '1990-01-27T01:00:00+11:00', 'id': 'eMAST_eWATCH_day_snow_v1m0_1979_2012__1990-01-27 01:00_1990-01-27 01:00', 'facility_id': 4, 'file_size': 1066696.0, 'url': 'https://rdsi-emast4-vm.intersect.org.au/data_files/7740/download.json', 'created_at': '2015-03-25T16:40:36+11:00', 'end_time': '1990-01-27T01:00:00+11:00', 'updated_at': '2015-03-25T16:40:36+11:00'}, {'file_processing_description': '', 'path': '/emast/data/meta/eMAST_eWATCH_day_snow_v1m0_1979_2012_19900125.nc', 'filename': 'eMAST_eWATCH_day_snow_v1m0_1979_2012_19900125.nc', 'format': 'NETCDF', 'experiment_id': 4, 'published_by_id': None, 'created_by_id': 7, 'interval': None, 'file_processing_status': 'CLEANSED', 'published_date': None, 'file_id': 7741, 'published': False, 'start_time': '1990-01-25T01:00:00+11:00', 'id': 'eMAST_eWATCH_day_snow_v1m0_1979_2012__1990-01-25 01:00_1990-01-25 01:00', 'facility_id': 4, 'file_size': 1066696.0, 'url': 'https://rdsi-emast4-vm.intersect.org.au/data_files/7741/download.json', 'created_at': '2015-03-25T16:40:37+11:00', 'end_time': '1990-01-25T01:00:00+11:00', 'updated_at': '2015-03-25T16:40:37+11:00'}, {'file_processing_description': '', 'path': '/emast/data/meta/eMAST_eWATCH_day_snow_v1m0_1979_2012_19900124.nc', 'filename': 'eMAST_eWATCH_day_snow_v1m0_1979_2012_19900124.nc', 'format': 'NETCDF', 'experiment_id': 4, 'published_by_id': None, 'created_by_id': 7, 'interval': None, 'file_processing_status': 'CLEANSED', 'published_date': None, 'file_id': 7742, 'published': False, 'start_time': '1990-01-24T01:00:00+11:00', 'id': 'eMAST_eWATCH_day_snow_v1m0_1979_2012__1990-01-24 01:00_1990-01-24 01:00', 'facility_id': 4, 'file_size': 1066696.0, 'url': 'https://rdsi-emast4-vm.intersect.org.au/data_files/7742/download.json', 'created_at': '2015-03-25T16:40:38+11:00', 'end_time': '1990-01-24T01:00:00+11:00', 'updated_at': '2015-03-25T16:40:38+11:00'}, {'file_processing_description': '', 'path': '/emast/data/meta/eMAST_eWATCH_day_snow_v1m0_1979_2012_19900123.nc', 'filename': 'eMAST_eWATCH_day_snow_v1m0_1979_2012_19900123.nc', 'format': 'NETCDF', 'experiment_id': 4, 'published_by_id': None, 'created_by_id': 7, 'interval': None, 'file_processing_status': 'CLEANSED', 'published_date': None, 'file_id': 7743, 'published': False, 'start_time': '1990-01-23T01:00:00+11:00', 'id': 'eMAST_eWATCH_day_snow_v1m0_1979_2012__1990-01-23 01:00_1990-01-23 01:00', 'facility_id': 4, 'file_size': 1066696.0, 'url': 'https://rdsi-emast4-vm.intersect.org.au/data_files/7743/download.json', 'created_at': '2015-03-25T16:40:39+11:00', 'end_time': '1990-01-23T01:00:00+11:00', 'updated_at': '2015-03-25T16:40:39+11:00'}, {'file_processing_description': '', 'path': '/emast/data/meta/eMAST_eWATCH_day_snow_v1m0_1979_2012_19900122.nc', 'filename': 'eMAST_eWATCH_day_snow_v1m0_1979_2012_19900122.nc', 'format': 'NETCDF', 'experiment_id': 4, 'published_by_id': None, 'created_by_id': 7, 'interval': None, 'file_processing_status': 'CLEANSED', 'published_date': None, 'file_id': 7744, 'published': False, 'start_time': '1990-01-22T01:00:00+11:00', 'id': 'eMAST_eWATCH_day_snow_v1m0_1979_2012__1990-01-22 01:00_1990-01-22 01:00', 'facility_id': 4, 'file_size': 1066696.0, 'url': 'https://rdsi-emast4-vm.intersect.org.au/data_files/7744/download.json', 'created_at': '2015-03-25T16:40:40+11:00', 'end_time': '1990-01-22T01:00:00+11:00', 'updated_at': '2015-03-25T16:40:40+11:00'}, {'file_processing_description': '', 'path': '/emast/data/meta/eMAST_eWATCH_day_snow_v1m0_1979_2012_19900121.nc', 'filename': 'eMAST_eWATCH_day_snow_v1m0_1979_2012_19900121.nc', 'format': 'NETCDF', 'experiment_id': 4, 'published_by_id': None, 'created_by_id': 7, 'interval': None, 'file_processing_status': 'CLEANSED', 'published_date': None, 'file_id': 7745, 'published': False, 'start_time': '1990-01-21T01:00:00+11:00', 'id': 'eMAST_eWATCH_day_snow_v1m0_1979_2012__1990-01-21 01:00_1990-01-21 01:00', 'facility_id': 4, 'file_size': 1066696.0, 'url': 'https://rdsi-emast4-vm.intersect.org.au/data_files/7745/download.json', 'created_at': '2015-03-25T16:40:41+11:00', 'end_time': '1990-01-21T01:00:00+11:00', 'updated_at': '2015-03-25T16:40:41+11:00'}, {'file_processing_description': '', 'path': '/emast/data/meta/eMAST_eWATCH_day_snow_v1m0_1979_2012_19900120.nc', 'filename': 'eMAST_eWATCH_day_snow_v1m0_1979_2012_19900120.nc', 'format': 'NETCDF', 'experiment_id': 4, 'published_by_id': None, 'created_by_id': 7, 'interval': None, 'file_processing_status': 'CLEANSED', 'published_date': None, 'file_id': 7746, 'published': False, 'start_time': '1990-01-20T01:00:00+11:00', 'id': 'eMAST_eWATCH_day_snow_v1m0_1979_2012__1990-01-20 01:00_1990-01-20 01:00', 'facility_id': 4, 'file_size': 1066696.0, 'url': 'https://rdsi-emast4-vm.intersect.org.au/data_files/7746/download.json', 'created_at': '2015-03-25T16:40:41+11:00', 'end_time': '1990-01-20T01:00:00+11:00', 'updated_at': '2015-03-25T16:40:41+11:00'}, {'file_processing_description': '', 'path': '/emast/data/meta/eMAST_eWATCH_day_snow_v1m0_1979_2012_19900119.nc', 'filename': 'eMAST_eWATCH_day_snow_v1m0_1979_2012_19900119.nc', 'format': 'NETCDF', 'experiment_id': 4, 'published_by_id': None, 'created_by_id': 7, 'interval': None, 'file_processing_status': 'CLEANSED', 'published_date': None, 'file_id': 7747, 'published': False, 'start_time': '1990-01-19T01:00:00+11:00', 'id': 'eMAST_eWATCH_day_snow_v1m0_1979_2012__1990-01-19 01:00_1990-01-19 01:00', 'facility_id': 4, 'file_size': 1066696.0, 'url': 'https://rdsi-emast4-vm.intersect.org.au/data_files/7747/download.json', 'created_at': '2015-03-25T16:40:42+11:00', 'end_time': '1990-01-19T01:00:00+11:00', 'updated_at': '2015-03-25T16:40:42+11:00'}, {'file_processing_description': '', 'path': '/emast/data/meta/eMAST_eWATCH_day_snow_v1m0_1979_2012_19900118.nc', 'filename': 'eMAST_eWATCH_day_snow_v1m0_1979_2012_19900118.nc', 'format': 'NETCDF', 'experiment_id': 4, 'published_by_id': None, 'created_by_id': 7, 'interval': None, 'file_processing_status': 'CLEANSED', 'published_date': None, 'file_id': 7748, 'published': False, 'start_time': '1990-01-18T01:00:00+11:00', 'id': 'eMAST_eWATCH_day_snow_v1m0_1979_2012__1990-01-18 01:00_1990-01-18 01:00', 'facility_id': 4, 'file_size': 1066696.0, 'url': 'https://rdsi-emast4-vm.intersect.org.au/data_files/7748/download.json', 'created_at': '2015-03-25T16:40:43+11:00', 'end_time': '1990-01-18T01:00:00+11:00', 'updated_at': '2015-03-25T16:40:43+11:00'}, {'file_processing_description': '', 'path': '/emast/data/meta/eMAST_eWATCH_day_snow_v1m0_1979_2012_19900117.nc', 'filename': 'eMAST_eWATCH_day_snow_v1m0_1979_2012_19900117.nc', 'format': 'NETCDF', 'experiment_id': 4, 'published_by_id': None, 'created_by_id': 7, 'interval': None, 'file_processing_status': 'CLEANSED', 'published_date': None, 'file_id': 7749, 'published': False, 'start_time': '1990-01-17T01:00:00+11:00', 'id': 'eMAST_eWATCH_day_snow_v1m0_1979_2012__1990-01-17 01:00_1990-01-17 01:00', 'facility_id': 4, 'file_size': 1066696.0, 'url': 'https://rdsi-emast4-vm.intersect.org.au/data_files/7749/download.json', 'created_at': '2015-03-25T16:40:44+11:00', 'end_time': '1990-01-17T01:00:00+11:00', 'updated_at': '2015-03-25T16:40:44+11:00'}, {'file_processing_description': '', 'path': '/emast/data/meta/eMAST_eWATCH_day_snow_v1m0_1979_2012_19900116.nc', 'filename': 'eMAST_eWATCH_day_snow_v1m0_1979_2012_19900116.nc', 'format': 'NETCDF', 'experiment_id': 4, 'published_by_id': None, 'created_by_id': 7, 'interval': None, 'file_processing_status': 'CLEANSED', 'published_date': None, 'file_id': 7750, 'published': False, 'start_time': '1990-01-16T01:00:00+11:00', 'id': 'eMAST_eWATCH_day_snow_v1m0_1979_2012__1990-01-16 01:00_1990-01-16 01:00', 'facility_id': 4, 'file_size': 1066696.0, 'url': 'https://rdsi-emast4-vm.intersect.org.au/data_files/7750/download.json', 'created_at': '2015-03-25T16:40:45+11:00', 'end_time': '1990-01-16T01:00:00+11:00', 'updated_at': '2015-03-25T16:40:45+11:00'}, {'file_processing_description': '', 'path': '/emast/data/meta/eMAST_eWATCH_day_snow_v1m0_1979_2012_19900114.nc', 'filename': 'eMAST_eWATCH_day_snow_v1m0_1979_2012_19900114.nc', 'format': 'NETCDF', 'experiment_id': 4, 'published_by_id': None, 'created_by_id': 7, 'interval': None, 'file_processing_status': 'CLEANSED', 'published_date': None, 'file_id': 7751, 'published': False, 'start_time': '1990-01-14T01:00:00+11:00', 'id': 'eMAST_eWATCH_day_snow_v1m0_1979_2012__1990-01-14 01:00_1990-01-14 01:00', 'facility_id': 4, 'file_size': 1066696.0, 'url': 'https://rdsi-emast4-vm.intersect.org.au/data_files/7751/download.json', 'created_at': '2015-03-25T16:40:46+11:00', 'end_time': '1990-01-14T01:00:00+11:00', 'updated_at': '2015-03-25T16:40:46+11:00'}, {'file_processing_description': '', 'path': '/emast/data/meta/eMAST_eWATCH_day_snow_v1m0_1979_2012_19900113.nc', 'filename': 'eMAST_eWATCH_day_snow_v1m0_1979_2012_19900113.nc', 'format': 'NETCDF', 'experiment_id': 4, 'published_by_id': None, 'created_by_id': 7, 'interval': None, 'file_processing_status': 'CLEANSED', 'published_date': None, 'file_id': 7752, 'published': False, 'start_time': '1990-01-13T01:00:00+11:00', 'id': 'eMAST_eWATCH_day_snow_v1m0_1979_2012__1990-01-13 01:00_1990-01-13 01:00', 'facility_id': 4, 'file_size': 1066696.0, 'url': 'https://rdsi-emast4-vm.intersect.org.au/data_files/7752/download.json', 'created_at': '2015-03-25T16:40:47+11:00', 'end_time': '1990-01-13T01:00:00+11:00', 'updated_at': '2015-03-25T16:40:47+11:00'}, {'file_processing_description': '', 'path': '/emast/data/meta/eMAST_eWATCH_day_snow_v1m0_1979_2012_19900112.nc', 'filename': 'eMAST_eWATCH_day_snow_v1m0_1979_2012_19900112.nc', 'format': 'NETCDF', 'experiment_id': 4, 'published_by_id': None, 'created_by_id': 7, 'interval': None, 'file_processing_status': 'CLEANSED', 'published_date': None, 'file_id': 7753, 'published': False, 'start_time': '1990-01-12T01:00:00+11:00', 'id': 'eMAST_eWATCH_day_snow_v1m0_1979_2012__1990-01-12 01:00_1990-01-12 01:00', 'facility_id': 4, 'file_size': 1066696.0, 'url': 'https://rdsi-emast4-vm.intersect.org.au/data_files/7753/download.json', 'created_at': '2015-03-25T16:40:47+11:00', 'end_time': '1990-01-12T01:00:00+11:00', 'updated_at': '2015-03-25T16:40:48+11:00'}, {'file_processing_description': '', 'path': '/emast/data/meta/eMAST_eWATCH_day_snow_v1m0_1979_2012_19900111.nc', 'filename': 'eMAST_eWATCH_day_snow_v1m0_1979_2012_19900111.nc', 'format': 'NETCDF', 'experiment_id': 4, 'published_by_id': None, 'created_by_id': 7, 'interval': None, 'file_processing_status': 'CLEANSED', 'published_date': None, 'file_id': 7754, 'published': False, 'start_time': '1990-01-11T01:00:00+11:00', 'id': 'eMAST_eWATCH_day_snow_v1m0_1979_2012__1990-01-11 01:00_1990-01-11 01:00', 'facility_id': 4, 'file_size': 1066696.0, 'url': 'https://rdsi-emast4-vm.intersect.org.au/data_files/7754/download.json', 'created_at': '2015-03-25T16:40:48+11:00', 'end_time': '1990-01-11T01:00:00+11:00', 'updated_at': '2015-03-25T16:40:48+11:00'}, {'file_processing_description': '', 'path': '/emast/data/meta/eMAST_eWATCH_day_snow_v1m0_1979_2012_19900110.nc', 'filename': 'eMAST_eWATCH_day_snow_v1m0_1979_2012_19900110.nc', 'format': 'NETCDF', 'experiment_id': 4, 'published_by_id': None, 'created_by_id': 7, 'interval': None, 'file_processing_status': 'CLEANSED', 'published_date': None, 'file_id': 7755, 'published': False, 'start_time': '1990-01-10T01:00:00+11:00', 'id': 'eMAST_eWATCH_day_snow_v1m0_1979_2012__1990-01-10 01:00_1990-01-10 01:00', 'facility_id': 4, 'file_size': 1066696.0, 'url': 'https://rdsi-emast4-vm.intersect.org.au/data_files/7755/download.json', 'created_at': '2015-03-25T16:40:49+11:00', 'end_time': '1990-01-10T01:00:00+11:00', 'updated_at': '2015-03-25T16:40:49+11:00'}, {'file_processing_description': '', 'path': '/emast/data/meta/eMAST_eWATCH_day_snow_v1m0_1979_2012_19900109.nc', 'filename': 'eMAST_eWATCH_day_snow_v1m0_1979_2012_19900109.nc', 'format': 'NETCDF', 'experiment_id': 4, 'published_by_id': None, 'created_by_id': 7, 'interval': None, 'file_processing_status': 'CLEANSED', 'published_date': None, 'file_id': 7756, 'published': False, 'start_time': '1990-01-09T01:00:00+11:00', 'id': 'eMAST_eWATCH_day_snow_v1m0_1979_2012__1990-01-09 01:00_1990-01-09 01:00', 'facility_id': 4, 'file_size': 1066696.0, 'url': 'https://rdsi-emast4-vm.intersect.org.au/data_files/7756/download.json', 'created_at': '2015-03-25T16:40:50+11:00', 'end_time': '1990-01-09T01:00:00+11:00', 'updated_at': '2015-03-25T16:40:51+11:00'}, {'file_processing_description': '', 'path': '/emast/data/meta/eMAST_eWATCH_day_snow_v1m0_1979_2012_19900108.nc', 'filename': 'eMAST_eWATCH_day_snow_v1m0_1979_2012_19900108.nc', 'format': 'NETCDF', 'experiment_id': 4, 'published_by_id': None, 'created_by_id': 7, 'interval': None, 'file_processing_status': 'CLEANSED', 'published_date': None, 'file_id': 7757, 'published': False, 'start_time': '1990-01-08T01:00:00+11:00', 'id': 'eMAST_eWATCH_day_snow_v1m0_1979_2012__1990-01-08 01:00_1990-01-08 01:00', 'facility_id': 4, 'file_size': 1066696.0, 'url': 'https://rdsi-emast4-vm.intersect.org.au/data_files/7757/download.json', 'created_at': '2015-03-25T16:40:51+11:00', 'end_time': '1990-01-08T01:00:00+11:00', 'updated_at': '2015-03-25T16:40:52+11:00'}, {'file_processing_description': '', 'path': '/emast/data/meta/eMAST_eWATCH_day_snow_v1m0_1979_2012_19900107.nc', 'filename': 'eMAST_eWATCH_day_snow_v1m0_1979_2012_19900107.nc', 'format': 'NETCDF', 'experiment_id': 4, 'published_by_id': None, 'created_by_id': 7, 'interval': None, 'file_processing_status': 'CLEANSED', 'published_date': None, 'file_id': 7758, 'published': False, 'start_time': '1990-01-07T01:00:00+11:00', 'id': 'eMAST_eWATCH_day_snow_v1m0_1979_2012__1990-01-07 01:00_1990-01-07 01:00', 'facility_id': 4, 'file_size': 1066696.0, 'url': 'https://rdsi-emast4-vm.intersect.org.au/data_files/7758/download.json', 'created_at': '2015-03-25T16:40:53+11:00', 'end_time': '1990-01-07T01:00:00+11:00', 'updated_at': '2015-03-25T16:40:53+11:00'}, {'file_processing_description': '', 'path': '/emast/data/meta/eMAST_eWATCH_day_snow_v1m0_1979_2012_19900106.nc', 'filename': 'eMAST_eWATCH_day_snow_v1m0_1979_2012_19900106.nc', 'format': 'NETCDF', 'experiment_id': 4, 'published_by_id': None, 'created_by_id': 7, 'interval': None, 'file_processing_status': 'CLEANSED', 'published_date': None, 'file_id': 7759, 'published': False, 'start_time': '1990-01-06T01:00:00+11:00', 'id': 'eMAST_eWATCH_day_snow_v1m0_1979_2012__1990-01-06 01:00_1990-01-06 01:00', 'facility_id': 4, 'file_size': 1066696.0, 'url': 'https://rdsi-emast4-vm.intersect.org.au/data_files/7759/download.json', 'created_at': '2015-03-25T16:40:54+11:00', 'end_time': '1990-01-06T01:00:00+11:00', 'updated_at': '2015-03-25T16:40:54+11:00'}, {'file_processing_description': '', 'path': '/emast/data/meta/eMAST_eWATCH_day_snow_v1m0_1979_2012_19900105.nc', 'filename': 'eMAST_eWATCH_day_snow_v1m0_1979_2012_19900105.nc', 'format': 'NETCDF', 'experiment_id': 4, 'published_by_id': None, 'created_by_id': 7, 'interval': None, 'file_processing_status': 'CLEANSED', 'published_date': None, 'file_id': 7760, 'published': False, 'start_time': '1990-01-05T01:00:00+11:00', 'id': 'eMAST_eWATCH_day_snow_v1m0_1979_2012__1990-01-05 01:00_1990-01-05 01:00', 'facility_id': 4, 'file_size': 1066696.0, 'url': 'https://rdsi-emast4-vm.intersect.org.au/data_files/7760/download.json', 'created_at': '2015-03-25T16:40:55+11:00', 'end_time': '1990-01-05T01:00:00+11:00', 'updated_at': '2015-03-25T16:40:56+11:00'}, {'file_processing_description': '', 'path': '/emast/data/meta/eMAST_eWATCH_day_snow_v1m0_1979_2012_19900104.nc', 'filename': 'eMAST_eWATCH_day_snow_v1m0_1979_2012_19900104.nc', 'format': 'NETCDF', 'experiment_id': 4, 'published_by_id': None, 'created_by_id': 7, 'interval': None, 'file_processing_status': 'CLEANSED', 'published_date': None, 'file_id': 7763, 'published': False, 'start_time': '1990-01-04T01:00:00+11:00', 'id': 'eMAST_eWATCH_day_snow_v1m0_1979_2012__1990-01-04 01:00_1990-01-04 01:00', 'facility_id': 4, 'file_size': 1066696.0, 'url': 'https://rdsi-emast4-vm.intersect.org.au/data_files/7763/download.json', 'created_at': '2015-03-25T16:40:58+11:00', 'end_time': '1990-01-04T01:00:00+11:00', 'updated_at': '2015-03-25T16:40:59+11:00'}, {'file_processing_description': '', 'path': '/emast/data/meta/eMAST_eWATCH_day_snow_v1m0_1979_2012_19900103.nc', 'filename': 'eMAST_eWATCH_day_snow_v1m0_1979_2012_19900103.nc', 'format': 'NETCDF', 'experiment_id': 4, 'published_by_id': None, 'created_by_id': 7, 'interval': None, 'file_processing_status': 'CLEANSED', 'published_date': None, 'file_id': 7764, 'published': False, 'start_time': '1990-01-03T01:00:00+11:00', 'id': 'eMAST_eWATCH_day_snow_v1m0_1979_2012__1990-01-03 01:00_1990-01-03 01:00', 'facility_id': 4, 'file_size': 1066696.0, 'url': 'https://rdsi-emast4-vm.intersect.org.au/data_files/7764/download.json', 'created_at': '2015-03-25T16:40:59+11:00', 'end_time': '1990-01-03T01:00:00+11:00', 'updated_at': '2015-03-25T16:40:59+11:00'}, {'file_processing_description': '', 'path': '/emast/data/meta/eMAST_eWATCH_day_snow_v1m0_1979_2012_19900102.nc', 'filename': 'eMAST_eWATCH_day_snow_v1m0_1979_2012_19900102.nc', 'format': 'NETCDF', 'experiment_id': 4, 'published_by_id': None, 'created_by_id': 7, 'interval': None, 'file_processing_status': 'CLEANSED', 'published_date': None, 'file_id': 7765, 'published': False, 'start_time': '1990-01-02T01:00:00+11:00', 'id': 'eMAST_eWATCH_day_snow_v1m0_1979_2012__1990-01-02 01:00_1990-01-02 01:00', 'facility_id': 4, 'file_size': 1066696.0, 'url': 'https://rdsi-emast4-vm.intersect.org.au/data_files/7765/download.json', 'created_at': '2015-03-25T16:41:00+11:00', 'end_time': '1990-01-02T01:00:00+11:00', 'updated_at': '2015-03-25T16:41:00+11:00'}, {'file_processing_description': '', 'path': '/emast/data/meta/eMAST_eWATCH_day_snow_v1m0_1979_2012_19900130.nc', 'filename': 'eMAST_eWATCH_day_snow_v1m0_1979_2012_19900130.nc', 'format': 'NETCDF', 'experiment_id': 4, 'published_by_id': None, 'created_by_id': 7, 'interval': None, 'file_processing_status': 'CLEANSED', 'published_date': None, 'file_id': 7851, 'published': False, 'start_time': '1990-01-30T01:00:00+11:00', 'id': 'eMAST_eWATCH_day_snow_v1m0_1979_2012__1990-01-30 01:00_1990-01-30 01:00', 'facility_id': 4, 'file_size': 1066696.0, 'url': 'https://rdsi-emast4-vm.intersect.org.au/data_files/7851/download.json', 'created_at': '2015-03-25T16:42:20+11:00', 'end_time': '1990-01-30T01:00:00+11:00', 'updated_at': '2015-03-25T16:42:21+11:00'}]\n"
     ]
    },
    {
     "ename": "RuntimeError",
     "evalue": "No such file or directory",
     "output_type": "error",
     "traceback": [
      "\u001b[0;31m---------------------------------------------------------------------------\u001b[0m",
      "\u001b[0;31mRuntimeError\u001b[0m                              Traceback (most recent call last)",
      "\u001b[0;32m<ipython-input-29-63c1748f92bc>\u001b[0m in \u001b[0;36m<module>\u001b[0;34m()\u001b[0m\n\u001b[1;32m      9\u001b[0m \u001b[0;34m\u001b[0m\u001b[0m\n\u001b[1;32m     10\u001b[0m \u001b[0;32mfor\u001b[0m \u001b[0mfile\u001b[0m \u001b[0;32min\u001b[0m \u001b[0mresults\u001b[0m\u001b[0;34m:\u001b[0m\u001b[0;34m\u001b[0m\u001b[0m\n\u001b[0;32m---> 11\u001b[0;31m     \u001b[0mvariables\u001b[0m \u001b[0;34m=\u001b[0m \u001b[0mvocab\u001b[0m\u001b[0;34m.\u001b[0m\u001b[0mvariablesIn\u001b[0m\u001b[0;34m(\u001b[0m\u001b[0mfile\u001b[0m\u001b[0;34m[\u001b[0m\u001b[0;34m'path'\u001b[0m\u001b[0;34m]\u001b[0m\u001b[0;34m)\u001b[0m\u001b[0;34m\u001b[0m\u001b[0m\n\u001b[0m\u001b[1;32m     12\u001b[0m     \u001b[0;32mfor\u001b[0m \u001b[0mvariable\u001b[0m \u001b[0;32min\u001b[0m \u001b[0mvariables\u001b[0m\u001b[0;34m:\u001b[0m\u001b[0;34m\u001b[0m\u001b[0m\n\u001b[1;32m     13\u001b[0m         \u001b[0;32mif\u001b[0m \u001b[0mvariable\u001b[0m \u001b[0;32mnot\u001b[0m \u001b[0;32min\u001b[0m \u001b[0mvariable_list\u001b[0m\u001b[0;34m:\u001b[0m\u001b[0;34m\u001b[0m\u001b[0m\n",
      "\u001b[0;32m/Users/stuart/divermodc/notebook/VocabService.py\u001b[0m in \u001b[0;36mvariablesIn\u001b[0;34m(Filename)\u001b[0m\n\u001b[1;32m     20\u001b[0m \u001b[0;32mdef\u001b[0m \u001b[0mvariablesIn\u001b[0m\u001b[0;34m(\u001b[0m\u001b[0mFilename\u001b[0m\u001b[0;34m)\u001b[0m\u001b[0;34m:\u001b[0m\u001b[0;34m\u001b[0m\u001b[0m\n\u001b[1;32m     21\u001b[0m     \u001b[0mshort_names\u001b[0m \u001b[0;34m=\u001b[0m \u001b[0;34m[\u001b[0m\u001b[0;34m]\u001b[0m\u001b[0;34m\u001b[0m\u001b[0m\n\u001b[0;32m---> 22\u001b[0;31m     \u001b[0mrootgrp\u001b[0m \u001b[0;34m=\u001b[0m \u001b[0mDataset\u001b[0m\u001b[0;34m(\u001b[0m\u001b[0mFilename\u001b[0m\u001b[0;34m,\u001b[0m \u001b[0;34m'r'\u001b[0m\u001b[0;34m)\u001b[0m\u001b[0;34m\u001b[0m\u001b[0m\n\u001b[0m\u001b[1;32m     23\u001b[0m     \u001b[0mvariables\u001b[0m \u001b[0;34m=\u001b[0m \u001b[0mrootgrp\u001b[0m\u001b[0;34m.\u001b[0m\u001b[0mvariables\u001b[0m\u001b[0;34m.\u001b[0m\u001b[0mkeys\u001b[0m\u001b[0;34m(\u001b[0m\u001b[0;34m)\u001b[0m\u001b[0;34m\u001b[0m\u001b[0m\n\u001b[1;32m     24\u001b[0m     \u001b[0;32mfor\u001b[0m \u001b[0mkey\u001b[0m \u001b[0;32min\u001b[0m \u001b[0mvariables\u001b[0m\u001b[0;34m:\u001b[0m\u001b[0;34m\u001b[0m\u001b[0m\n",
      "\u001b[0;32mnetCDF4.pyx\u001b[0m in \u001b[0;36mnetCDF4.Dataset.__init__ (netCDF4.c:21986)\u001b[0;34m()\u001b[0m\n",
      "\u001b[0;31mRuntimeError\u001b[0m: No such file or directory"
     ]
    }
   ],
   "source": [
    "# Fetch the list of proucts using the new API call.\n",
    "# Iterate over it.\n",
    "\n",
    "results = meta.search(from_date='1990-01-01', to_date='1990-03-01', experiments=['4'], quiet=True)\n",
    "\n",
    "print(results)\n",
    "\n",
    "variable_list = []\n",
    "\n",
    "for file in results:\n",
    "    variables = vocab.variablesIn(file['path'])\n",
    "    for variable in variables:\n",
    "        if variable not in variable_list:\n",
    "            variable_list.append(variable)\n",
    "            \n",
    "print (variable_list)"
   ]
  },
  {
   "cell_type": "markdown",
   "metadata": {},
   "source": [
    "## This code is only here to autoreload libraries while they in development"
   ]
  },
  {
   "cell_type": "code",
   "execution_count": 7,
   "metadata": {
    "collapsed": true
   },
   "outputs": [],
   "source": [
    "%reload_ext autoreload\n",
    "%autoreload 2"
   ]
  },
  {
   "cell_type": "code",
   "execution_count": null,
   "metadata": {
    "collapsed": true
   },
   "outputs": [],
   "source": []
  },
  {
   "cell_type": "code",
   "execution_count": 9,
   "metadata": {
    "collapsed": false
   },
   "outputs": [],
   "source": [
    "from IPython.html import widgets\n",
    "from IPython.display import display\n",
    "\n",
    "# First get the JSON for all available variables\n",
    "#results = meta.list_variables(quiet=False)\n",
    "#print (results)\n",
    "\n",
    "# Now filter that JSON to get just the 'name' variable (hiev.VAR_NAME or \"name\" as the second argument)\n",
    "#names = meta.get_variables(results, meta.VAR_NAME)\n",
    "# Get a list of data types\n",
    "\n",
    "#print (names)\n",
    "\n",
    "#data_types = meta.get_variables(results, meta.VAR_DATA_TYPE)\n",
    "# Get a list of column mappings\n",
    "#print (data_types)\n",
    "\n",
    "first = widgets.Dropdown(\n",
    "    options = vocab.commonNames(),\n",
    "    description = 'Common name:',\n",
    ")\n",
    "\n",
    "def on_trait_change_func():\n",
    "    #print (\"State change to \" + first.value + \"!\")\n",
    "    second.options = vocab.listVariables(first.value)\n",
    "    \n",
    "\n",
    "first.on_trait_change(on_trait_change_func, name='value')\n",
    "\n",
    "display(first)\n",
    "\n",
    "second = widgets.Dropdown(\n",
    "    options = vocab.listVariables(first.value),\n",
    "    description = 'Variable name:',\n",
    ")\n",
    "\n",
    "display(second)\n",
    "\n",
    "temporal = widgets.FloatSlider(\n",
    "    value=7.5,\n",
    "    min=5.0,\n",
    "    max=10.0,\n",
    "    step=0.1,\n",
    "    description='Start Date:',\n",
    ")\n",
    "\n",
    "display(temporal)"
   ]
  },
  {
   "cell_type": "code",
   "execution_count": 10,
   "metadata": {
    "collapsed": false
   },
   "outputs": [],
   "source": [
    "itr = 1\n",
    "\n",
    "for file in ['first', 'second', 'third', 'forth']\n",
    "\n",
    "\n"
   ]
  }
 ],
 "metadata": {
  "kernelspec": {
   "display_name": "Python 3",
   "language": "python",
   "name": "python3"
  },
  "language_info": {
   "codemirror_mode": {
    "name": "ipython",
    "version": 3
   },
   "file_extension": ".py",
   "mimetype": "text/x-python",
   "name": "python",
   "nbconvert_exporter": "python",
   "pygments_lexer": "ipython3",
   "version": "3.4.3"
  }
 },
 "nbformat": 4,
 "nbformat_minor": 0
}
