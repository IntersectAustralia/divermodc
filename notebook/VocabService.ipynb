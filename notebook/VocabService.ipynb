{
 "cells": [
  {
   "cell_type": "markdown",
   "metadata": {},
   "source": [
    "# eMAST Vocabulary Service\n",
    "\n",
    "Before DIVER can be queried, the host URL and API token must be set. This is not needed to query the Vocab Service only, but is for queries that involve both DIVER and the Vocab Service working in conjunction\n",
    "\n",
    "The Vocabulary Service directly access the variable definitions as a CSV file.\n",
    "\n",
    "## Import libraries and set configuration variables\n"
   ]
  },
  {
   "cell_type": "code",
   "execution_count": 1,
   "metadata": {
    "collapsed": false
   },
   "outputs": [],
   "source": [
    "from VocabService import *\n",
    "import diver.hiev as meta \n",
    "from diver.hiev import pretty_print_json as pjson\n",
    "\n",
    "# Set token and host url if you have not already edited the config.ini file\n",
    "meta.set_token('w5SPghuczm32WcQQaJ3m ')\n",
    "meta.set_host('https://rdsi-emast4-vm.intersect.org.au')"
   ]
  },
  {
   "cell_type": "markdown",
   "metadata": {},
   "source": [
    "Any variable can easily have it's definition fetched by calling ***variableDefine*** and passing the variable's short name."
   ]
  },
  {
   "cell_type": "code",
   "execution_count": 2,
   "metadata": {
    "collapsed": false
   },
   "outputs": [
    {
     "name": "stdout",
     "output_type": "stream",
     "text": [
      "The definition of life_form: Plants life form is a classification that takes in account plants structural architecture (e.g. tree, shrub, herb, grass, fern, forb, etc). Same species can present different life form as a way to adapt to different environments. \n"
     ]
    }
   ],
   "source": [
    "print (\"The definition of life_form: \" + variableDefine('life_form'))"
   ]
  },
  {
   "cell_type": "markdown",
   "metadata": {},
   "source": [
    "The ***vocabLookup*** function allows any column to be extracted for a variable by specifying the variables short name and then giving the name of the column you would like returned. The contents of the column being fetched is returned as a single string."
   ]
  },
  {
   "cell_type": "code",
   "execution_count": 47,
   "metadata": {
    "collapsed": false
   },
   "outputs": [
    {
     "name": "stdout",
     "output_type": "stream",
     "text": [
      "The units of life_form: unitless\n",
      "\n",
      "The units of max_photo_A_sat_light_leaf_area: _mol CO2 m-2 s-1\n"
     ]
    }
   ],
   "source": [
    "print (\"The units of life_form: \" + vocabLookup('life_form', 'Unit') + \"\\n\")\n",
    "print (\"The units of max_photo_A_sat_light_leaf_area: \" + vocabLookup('max_photo_A_sat_light_leaf_area', 'Unit'))"
   ]
  },
  {
   "cell_type": "markdown",
   "metadata": {},
   "source": [
    "## There are lots of other functions for returning information from the Vocab Service\n",
    "\n",
    "The following functions all return lists of strings to return the results of queries that may have multiple matches. "
   ]
  },
  {
   "cell_type": "code",
   "execution_count": 3,
   "metadata": {
    "collapsed": false
   },
   "outputs": [
    {
     "name": "stdout",
     "output_type": "stream",
     "text": [
      "Variables in the category Isotypes:\n",
      "  carbon_isotope_delta_13\n",
      "  trans_leaf_area_sat_light\n",
      "  stomatal_cond_leaf_area_sat_light\n",
      "  max_height\n",
      "  huber_value\n",
      "  max_electron_transport_leaf_area_25_celsius\n",
      "  leaf_area_index_LAI_vert_photography\n",
      "  leaf_area_index_LAI_aerial\n",
      "  leaf_area\n",
      "  life_form\n",
      "  leaf_dry_mass\n",
      "  leaf_dry_mass_per_area\n",
      "  leaf_width_dim\n",
      "  midday_leaf_water_potential\n",
      "  Nitrogen_N_mass\n",
      "  pre_dawn_leaf_water_potential\n",
      "  light_use_efficiency\n",
      "  Phosphorus_P_mass\n",
      "\n",
      "Categories that leaf_area is in:\n",
      "  Isotopes\n",
      "\n",
      "Labels for max_photo_A_sat_light_leaf_area: \n",
      "  maximum\n",
      "   photosynthesis\n",
      "   saturated light\n",
      "   leaf area\n",
      "\n",
      "Labels for quantum_yeld:\n",
      "  leaf\n",
      "   quantum yield\n",
      "\n",
      "Variables with the label 'leaf':\n",
      "  leaf_dry_mass\n",
      "  leaf_dry_mass_per_area\n",
      "  leaf_width_dim\n",
      "  midday_leaf_water_potential\n",
      "  quantum_yeld\n",
      "\n",
      "Variables with the word 'carbon' in their definition:\n",
      "  max_photo_A_sat_light_leaf_area\n",
      "  max_photo_A_sat_light_CO2_leaf_area\n",
      "  max_carboxylation_leaf_area\n",
      "  max_electron_transport_leaf_area\n",
      "  dark_resp_leaf_area\n",
      "  max_photo_A_sat_light_leaf_area_25_celsius\n",
      "  ci_ca\n",
      "  stomatal_cond_leaf_area_sat_light\n",
      "  max_electron_transport_leaf_area_25_celsius\n",
      "  leaf_area\n",
      "  leaf_dry_mass\n",
      "  leaf_dry_mass_per_area\n",
      "  leaf_width_dim\n",
      "  Nitrogen_N_mass\n",
      "  light_use_efficiency\n",
      "  biochemistry_pathway\n",
      "  quantum_yeld\n",
      "  dark_resp_leaf_area_25_celsius\n",
      "  total_root_biomass_ground_area\n",
      "  root_depth\n",
      "  root_resist\n",
      "  soil_resist_close_root\n",
      "  soil_carbon\n",
      "  soil_nitrogen_N\n",
      "  leaf_temp\n",
      "  max_carboxylation_leaf_area_25_celsius\n",
      "  max_PEP_leaf_area_25_celsius\n",
      "  wood_dens\n",
      "  wood_dens_fresh\n"
     ]
    }
   ],
   "source": [
    "print (\"Variables in the category Isotypes:\\n  \" + '\\n  '.join(listVariables('Isotopes')))\n",
    "print ()\n",
    "print (\"Categories that leaf_area is in:\\n  \" + '\\n  '.join(variableCategories('leaf_area')))\n",
    "print ()\n",
    "print (\"Labels for max_photo_A_sat_light_leaf_area: \\n  \" + '\\n  '.join(listLabels('max_photo_A_sat_light_leaf_area')))\n",
    "print ()\n",
    "print (\"Labels for quantum_yeld:\\n  \" + '\\n  '.join(listLabels('quantum_yeld')))\n",
    "print ()\n",
    "print (\"Variables with the label 'leaf':\\n  \" + '\\n  '.join(variablesWithLabel('leaf')))\n",
    "print ()\n",
    "print (\"Variables with the word 'carbon' in their definition:\\n  \" + '\\n  '.join(variablesDefinedWith('carbon')))"
   ]
  },
  {
   "cell_type": "markdown",
   "metadata": {},
   "source": [
    "## Querying a NetCDF file directly once the file location has been fetched\n",
    "\n",
    "The ***variablesIn*** function returns a list of the variables that are contained within a file. This information is obtained by opening the file directly and querying it. The Vocab Service is then queries once per variable to fetch the definition for all the variables."
   ]
  },
  {
   "cell_type": "code",
   "execution_count": 4,
   "metadata": {
    "collapsed": false
   },
   "outputs": [
    {
     "ename": "RuntimeError",
     "evalue": "No such file or directory",
     "output_type": "error",
     "traceback": [
      "\u001b[0;31m---------------------------------------------------------------------------\u001b[0m",
      "\u001b[0;31mRuntimeError\u001b[0m                              Traceback (most recent call last)",
      "\u001b[0;32m<ipython-input-4-faef45ab6115>\u001b[0m in \u001b[0;36m<module>\u001b[0;34m()\u001b[0m\n\u001b[0;32m----> 1\u001b[0;31m \u001b[0mvariables\u001b[0m \u001b[0;34m=\u001b[0m \u001b[0mvariablesIn\u001b[0m\u001b[0;34m(\u001b[0m\u001b[0;34m'eMAST_eWATCH_day_prec_v1m0_1979_2012_19900701.nc'\u001b[0m\u001b[0;34m)\u001b[0m\u001b[0;34m\u001b[0m\u001b[0m\n\u001b[0m\u001b[1;32m      2\u001b[0m \u001b[0mprint\u001b[0m\u001b[0;34m(\u001b[0m\u001b[0mvariables\u001b[0m\u001b[0;34m)\u001b[0m\u001b[0;34m\u001b[0m\u001b[0m\n\u001b[1;32m      3\u001b[0m \u001b[0mprint\u001b[0m\u001b[0;34m(\u001b[0m\u001b[0;34m)\u001b[0m\u001b[0;34m\u001b[0m\u001b[0m\n\u001b[1;32m      4\u001b[0m \u001b[0;32mfor\u001b[0m \u001b[0mvariable\u001b[0m \u001b[0;32min\u001b[0m \u001b[0mvariables\u001b[0m\u001b[0;34m:\u001b[0m\u001b[0;34m\u001b[0m\u001b[0m\n\u001b[1;32m      5\u001b[0m     \u001b[0mprint\u001b[0m \u001b[0;34m(\u001b[0m\u001b[0mvariable\u001b[0m \u001b[0;34m+\u001b[0m \u001b[0;34m\": \"\u001b[0m \u001b[0;34m+\u001b[0m \u001b[0mvariableDefine\u001b[0m\u001b[0;34m(\u001b[0m\u001b[0mvariable\u001b[0m\u001b[0;34m)\u001b[0m\u001b[0;34m)\u001b[0m\u001b[0;34m\u001b[0m\u001b[0m\n",
      "\u001b[0;32m/Users/stuart/divermodc/notebook/VocabService.py\u001b[0m in \u001b[0;36mvariablesIn\u001b[0;34m(Filename)\u001b[0m\n\u001b[1;32m      9\u001b[0m \u001b[0;32mdef\u001b[0m \u001b[0mvariablesIn\u001b[0m\u001b[0;34m(\u001b[0m\u001b[0mFilename\u001b[0m\u001b[0;34m)\u001b[0m\u001b[0;34m:\u001b[0m\u001b[0;34m\u001b[0m\u001b[0m\n\u001b[1;32m     10\u001b[0m     \u001b[0mshort_names\u001b[0m \u001b[0;34m=\u001b[0m \u001b[0;34m[\u001b[0m\u001b[0;34m]\u001b[0m\u001b[0;34m\u001b[0m\u001b[0m\n\u001b[0;32m---> 11\u001b[0;31m     \u001b[0mrootgrp\u001b[0m \u001b[0;34m=\u001b[0m \u001b[0mDataset\u001b[0m\u001b[0;34m(\u001b[0m\u001b[0mFilename\u001b[0m\u001b[0;34m,\u001b[0m \u001b[0;34m'r'\u001b[0m\u001b[0;34m)\u001b[0m\u001b[0;34m\u001b[0m\u001b[0m\n\u001b[0m\u001b[1;32m     12\u001b[0m     \u001b[0mvariables\u001b[0m \u001b[0;34m=\u001b[0m \u001b[0mrootgrp\u001b[0m\u001b[0;34m.\u001b[0m\u001b[0mvariables\u001b[0m\u001b[0;34m.\u001b[0m\u001b[0mkeys\u001b[0m\u001b[0;34m(\u001b[0m\u001b[0;34m)\u001b[0m\u001b[0;34m\u001b[0m\u001b[0m\n\u001b[1;32m     13\u001b[0m     \u001b[0;32mfor\u001b[0m \u001b[0mkey\u001b[0m \u001b[0;32min\u001b[0m \u001b[0mvariables\u001b[0m\u001b[0;34m:\u001b[0m\u001b[0;34m\u001b[0m\u001b[0m\n",
      "\u001b[0;32mnetCDF4.pyx\u001b[0m in \u001b[0;36mnetCDF4.Dataset.__init__ (netCDF4.c:21986)\u001b[0;34m()\u001b[0m\n",
      "\u001b[0;31mRuntimeError\u001b[0m: No such file or directory"
     ]
    }
   ],
   "source": [
    "variables = variablesIn('eMAST_eWATCH_day_prec_v1m0_1979_2012_19900701.nc')\n",
    "print(variables)\n",
    "print()\n",
    "for variable in variables:\n",
    "    print (variable + \": \" + variableDefine(variable))\n"
   ]
  },
  {
   "cell_type": "markdown",
   "metadata": {},
   "source": [
    "## Fetching a list of files and their full paths from DIVER\n",
    "\n",
    "This example searches for a list of files by date range and product (there are many other ways to search for a file), then displays the metadata for the file that is returned by DIVER."
   ]
  },
  {
   "cell_type": "code",
   "execution_count": 5,
   "metadata": {
    "collapsed": false
   },
   "outputs": [
    {
     "name": "stdout",
     "output_type": "stream",
     "text": [
      "7646: /emast/data/meta/eMAST_eWATCH_day_snow_v1m0_1979_2012_19900302.nc\n",
      "7647: /emast/data/meta/eMAST_eWATCH_day_snow_v1m0_1979_2012_19900301.nc\n",
      "7666: /emast/data/meta/eMAST_eWATCH_day_snow_v1m0_1979_2012_19900218.nc\n",
      "7678: /emast/data/meta/eMAST_eWATCH_day_snow_v1m0_1979_2012_19900227.nc\n",
      "7679: /emast/data/meta/eMAST_eWATCH_day_snow_v1m0_1979_2012_19900226.nc\n",
      "7680: /emast/data/meta/eMAST_eWATCH_day_snow_v1m0_1979_2012_19900225.nc\n",
      "7681: /emast/data/meta/eMAST_eWATCH_day_snow_v1m0_1979_2012_19900224.nc\n",
      "7682: /emast/data/meta/eMAST_eWATCH_day_snow_v1m0_1979_2012_19900223.nc\n",
      "7683: /emast/data/meta/eMAST_eWATCH_day_snow_v1m0_1979_2012_19900222.nc\n",
      "7684: /emast/data/meta/eMAST_eWATCH_day_snow_v1m0_1979_2012_19900221.nc\n",
      "7685: /emast/data/meta/eMAST_eWATCH_day_snow_v1m0_1979_2012_19900220.nc\n",
      "7686: /emast/data/meta/eMAST_eWATCH_day_snow_v1m0_1979_2012_19900219.nc\n",
      "7687: /emast/data/meta/eMAST_eWATCH_day_snow_v1m0_1979_2012_19900217.nc\n",
      "7688: /emast/data/meta/eMAST_eWATCH_day_snow_v1m0_1979_2012_19900216.nc\n",
      "7689: /emast/data/meta/eMAST_eWATCH_day_snow_v1m0_1979_2012_19900215.nc\n",
      "7690: /emast/data/meta/eMAST_eWATCH_day_snow_v1m0_1979_2012_19900214.nc\n",
      "7691: /emast/data/meta/eMAST_eWATCH_day_snow_v1m0_1979_2012_19900213.nc\n",
      "7692: /emast/data/meta/eMAST_eWATCH_day_snow_v1m0_1979_2012_19900212.nc\n",
      "7693: /emast/data/meta/eMAST_eWATCH_day_snow_v1m0_1979_2012_19900211.nc\n",
      "7694: /emast/data/meta/eMAST_eWATCH_day_snow_v1m0_1979_2012_19900210.nc\n",
      "7695: /emast/data/meta/eMAST_eWATCH_day_snow_v1m0_1979_2012_19900209.nc\n",
      "7696: /emast/data/meta/eMAST_eWATCH_day_snow_v1m0_1979_2012_19900208.nc\n",
      "7699: /emast/data/meta/eMAST_eWATCH_day_snow_v1m0_1979_2012_19900207.nc\n",
      "7700: /emast/data/meta/eMAST_eWATCH_day_snow_v1m0_1979_2012_19900206.nc\n",
      "7701: /emast/data/meta/eMAST_eWATCH_day_snow_v1m0_1979_2012_19900205.nc\n",
      "7702: /emast/data/meta/eMAST_eWATCH_day_snow_v1m0_1979_2012_19900204.nc\n",
      "7703: /emast/data/meta/eMAST_eWATCH_day_snow_v1m0_1979_2012_19900203.nc\n",
      "7704: /emast/data/meta/eMAST_eWATCH_day_snow_v1m0_1979_2012_19900202.nc\n",
      "7705: /emast/data/meta/eMAST_eWATCH_day_snow_v1m0_1979_2012_19900201.nc\n",
      "7729: /emast/data/meta/eMAST_eWATCH_day_snow_v1m0_1979_2012_19900126.nc\n",
      "7730: /emast/data/meta/eMAST_eWATCH_day_snow_v1m0_1979_2012_19900115.nc\n",
      "7738: /emast/data/meta/eMAST_eWATCH_day_snow_v1m0_1979_2012_19900129.nc\n",
      "7739: /emast/data/meta/eMAST_eWATCH_day_snow_v1m0_1979_2012_19900128.nc\n",
      "7740: /emast/data/meta/eMAST_eWATCH_day_snow_v1m0_1979_2012_19900127.nc\n",
      "7741: /emast/data/meta/eMAST_eWATCH_day_snow_v1m0_1979_2012_19900125.nc\n",
      "7742: /emast/data/meta/eMAST_eWATCH_day_snow_v1m0_1979_2012_19900124.nc\n",
      "7743: /emast/data/meta/eMAST_eWATCH_day_snow_v1m0_1979_2012_19900123.nc\n",
      "7744: /emast/data/meta/eMAST_eWATCH_day_snow_v1m0_1979_2012_19900122.nc\n",
      "7745: /emast/data/meta/eMAST_eWATCH_day_snow_v1m0_1979_2012_19900121.nc\n",
      "7746: /emast/data/meta/eMAST_eWATCH_day_snow_v1m0_1979_2012_19900120.nc\n",
      "7747: /emast/data/meta/eMAST_eWATCH_day_snow_v1m0_1979_2012_19900119.nc\n",
      "7748: /emast/data/meta/eMAST_eWATCH_day_snow_v1m0_1979_2012_19900118.nc\n",
      "7749: /emast/data/meta/eMAST_eWATCH_day_snow_v1m0_1979_2012_19900117.nc\n",
      "7750: /emast/data/meta/eMAST_eWATCH_day_snow_v1m0_1979_2012_19900116.nc\n",
      "7751: /emast/data/meta/eMAST_eWATCH_day_snow_v1m0_1979_2012_19900114.nc\n",
      "7752: /emast/data/meta/eMAST_eWATCH_day_snow_v1m0_1979_2012_19900113.nc\n",
      "7753: /emast/data/meta/eMAST_eWATCH_day_snow_v1m0_1979_2012_19900112.nc\n",
      "7754: /emast/data/meta/eMAST_eWATCH_day_snow_v1m0_1979_2012_19900111.nc\n",
      "7755: /emast/data/meta/eMAST_eWATCH_day_snow_v1m0_1979_2012_19900110.nc\n",
      "7756: /emast/data/meta/eMAST_eWATCH_day_snow_v1m0_1979_2012_19900109.nc\n",
      "7757: /emast/data/meta/eMAST_eWATCH_day_snow_v1m0_1979_2012_19900108.nc\n",
      "7758: /emast/data/meta/eMAST_eWATCH_day_snow_v1m0_1979_2012_19900107.nc\n",
      "7759: /emast/data/meta/eMAST_eWATCH_day_snow_v1m0_1979_2012_19900106.nc\n",
      "7760: /emast/data/meta/eMAST_eWATCH_day_snow_v1m0_1979_2012_19900105.nc\n",
      "7763: /emast/data/meta/eMAST_eWATCH_day_snow_v1m0_1979_2012_19900104.nc\n",
      "7764: /emast/data/meta/eMAST_eWATCH_day_snow_v1m0_1979_2012_19900103.nc\n",
      "7765: /emast/data/meta/eMAST_eWATCH_day_snow_v1m0_1979_2012_19900102.nc\n",
      "7851: /emast/data/meta/eMAST_eWATCH_day_snow_v1m0_1979_2012_19900130.nc\n",
      "\n",
      "Posting Query to https://rdsi-emast4-vm.intersect.org.au/data_files/api_search\n",
      "Search results: 1\n",
      "Files returned:\n",
      "Filename: eMAST_eWATCH_day_snow_v1m0_1979_2012_19900302.nc ID: 7646\n",
      "\n",
      "[{'path': '/emast/data/meta/eMAST_eWATCH_day_snow_v1m0_1979_2012_19900302.nc', 'start_time': '1990-03-02T01:00:00+11:00', 'file_processing_status': 'CLEANSED', 'format': 'NETCDF', 'published': False, 'experiment_id': 4, 'interval': None, 'file_size': 1066696.0, 'facility_id': 4, 'id': 'eMAST_eWATCH_day_snow_v1m0_1979_2012__1990-03-02 01:00_1990-03-02 01:00', 'published_date': None, 'file_id': 7646, 'updated_at': '2015-03-25T16:39:10+11:00', 'filename': 'eMAST_eWATCH_day_snow_v1m0_1979_2012_19900302.nc', 'url': 'https://rdsi-emast4-vm.intersect.org.au/data_files/7646/download.json', 'end_time': '1990-03-02T01:00:00+11:00', 'published_by_id': None, 'created_by_id': 7, 'file_processing_description': '', 'created_at': '2015-03-25T16:39:10+11:00'}]\n"
     ]
    }
   ],
   "source": [
    "# Search for all TOA5 and text files\n",
    "# Args: There are many available, for the full list of args and their format, \n",
    "# see https://github.com/IntersectAustralia/dc21-doc/blob/master/Search_API.md\n",
    "#results = meta.search(variables=['latitude'], )\n",
    "#print (results)\n",
    "\n",
    "results = meta.search(from_date='1990-01-01', to_date='1990-03-01', experiments=['4'], quiet=True)\n",
    "file_list = []\n",
    "\n",
    "for file in results:\n",
    "    print (str(file['file_id']) + \": \" + file['path'])\n",
    "    file_list.append(file['file_id'])\n",
    "    \n",
    "\n",
    "# This list of files could be allocated to a compute node to operate on.\n",
    "print()\n",
    "results = meta.search(file_id=file_list[0])\n",
    "print ()\n",
    "print (results)"
   ]
  },
  {
   "cell_type": "markdown",
   "metadata": {},
   "source": [
    "## Here are some queries that are needed to support tab completion\n",
    "\n",
    "The ability to get a list of all unqiue variables contained within a search. This is really about querying all the files returned by the search and building a list. The primary search here is likely to be a single product."
   ]
  },
  {
   "cell_type": "code",
   "execution_count": 25,
   "metadata": {
    "collapsed": false
   },
   "outputs": [
    {
     "ename": "RuntimeError",
     "evalue": "No such file or directory",
     "output_type": "error",
     "traceback": [
      "\u001b[0;31m---------------------------------------------------------------------------\u001b[0m",
      "\u001b[0;31mRuntimeError\u001b[0m                              Traceback (most recent call last)",
      "\u001b[0;32m<ipython-input-25-c31d63cfa6bc>\u001b[0m in \u001b[0;36m<module>\u001b[0;34m()\u001b[0m\n\u001b[1;32m      3\u001b[0m \u001b[0;34m\u001b[0m\u001b[0m\n\u001b[1;32m      4\u001b[0m \u001b[0;32mfor\u001b[0m \u001b[0mfile\u001b[0m \u001b[0;32min\u001b[0m \u001b[0mresults\u001b[0m\u001b[0;34m:\u001b[0m\u001b[0;34m\u001b[0m\u001b[0m\n\u001b[0;32m----> 5\u001b[0;31m     \u001b[0mvariables\u001b[0m \u001b[0;34m=\u001b[0m \u001b[0mvariablesIn\u001b[0m\u001b[0;34m(\u001b[0m\u001b[0mfile\u001b[0m\u001b[0;34m[\u001b[0m\u001b[0;34m'path'\u001b[0m\u001b[0;34m]\u001b[0m\u001b[0;34m)\u001b[0m\u001b[0;34m\u001b[0m\u001b[0m\n\u001b[0m\u001b[1;32m      6\u001b[0m     \u001b[0;32mfor\u001b[0m \u001b[0mvariable\u001b[0m \u001b[0;32min\u001b[0m \u001b[0mvariables\u001b[0m\u001b[0;34m:\u001b[0m\u001b[0;34m\u001b[0m\u001b[0m\n\u001b[1;32m      7\u001b[0m         \u001b[0;32mif\u001b[0m \u001b[0mvariable\u001b[0m \u001b[0;32mnot\u001b[0m \u001b[0;32min\u001b[0m \u001b[0mvariable_list\u001b[0m\u001b[0;34m:\u001b[0m\u001b[0;34m\u001b[0m\u001b[0m\n",
      "\u001b[0;32m/Users/stuart/divermodc/notebook/VocabService.py\u001b[0m in \u001b[0;36mvariablesIn\u001b[0;34m(Filename)\u001b[0m\n\u001b[1;32m      9\u001b[0m \u001b[0;32mdef\u001b[0m \u001b[0mvariablesIn\u001b[0m\u001b[0;34m(\u001b[0m\u001b[0mFilename\u001b[0m\u001b[0;34m)\u001b[0m\u001b[0;34m:\u001b[0m\u001b[0;34m\u001b[0m\u001b[0m\n\u001b[1;32m     10\u001b[0m     \u001b[0mshort_names\u001b[0m \u001b[0;34m=\u001b[0m \u001b[0;34m[\u001b[0m\u001b[0;34m]\u001b[0m\u001b[0;34m\u001b[0m\u001b[0m\n\u001b[0;32m---> 11\u001b[0;31m     \u001b[0mrootgrp\u001b[0m \u001b[0;34m=\u001b[0m \u001b[0mDataset\u001b[0m\u001b[0;34m(\u001b[0m\u001b[0mFilename\u001b[0m\u001b[0;34m,\u001b[0m \u001b[0;34m'r'\u001b[0m\u001b[0;34m)\u001b[0m\u001b[0;34m\u001b[0m\u001b[0m\n\u001b[0m\u001b[1;32m     12\u001b[0m     \u001b[0mvariables\u001b[0m \u001b[0;34m=\u001b[0m \u001b[0mrootgrp\u001b[0m\u001b[0;34m.\u001b[0m\u001b[0mvariables\u001b[0m\u001b[0;34m.\u001b[0m\u001b[0mkeys\u001b[0m\u001b[0;34m(\u001b[0m\u001b[0;34m)\u001b[0m\u001b[0;34m\u001b[0m\u001b[0m\n\u001b[1;32m     13\u001b[0m     \u001b[0;32mfor\u001b[0m \u001b[0mkey\u001b[0m \u001b[0;32min\u001b[0m \u001b[0mvariables\u001b[0m\u001b[0;34m:\u001b[0m\u001b[0;34m\u001b[0m\u001b[0m\n",
      "\u001b[0;32mnetCDF4.pyx\u001b[0m in \u001b[0;36mnetCDF4.Dataset.__init__ (netCDF4.c:21986)\u001b[0;34m()\u001b[0m\n",
      "\u001b[0;31mRuntimeError\u001b[0m: No such file or directory"
     ]
    }
   ],
   "source": [
    "results = meta.search(from_date='1990-01-01', to_date='1990-03-01', experiments=['4'], quiet=True)\n",
    "variable_list = []\n",
    "\n",
    "for file in results:\n",
    "    variables = variablesIn(file['path'])\n",
    "    for variable in variables:\n",
    "        if variable not in variable_list:\n",
    "            variable_list.append(variable)\n",
    "            \n",
    "print (variable_list)"
   ]
  },
  {
   "cell_type": "markdown",
   "metadata": {},
   "source": [
    "The ability to list all the products that contain data with a specified variable. This is primarily to drive the tab-completion.\n",
    "\n",
    "Build the list of unique variables in a product (using the code above), index it in a map by product. This may be slow and should be cached somehow."
   ]
  },
  {
   "cell_type": "code",
   "execution_count": null,
   "metadata": {
    "collapsed": true
   },
   "outputs": [],
   "source": [
    "# Fetch the list of proucts using the new API call.\n",
    "# Iterate over it.\n",
    "\n",
    "results = meta.search(from_date='1990-01-01', to_date='1990-03-01', experiments=['1'], quiet=True)\n",
    "variable_list = []\n",
    "\n",
    "for file in results:\n",
    "    variables = variablesIn(file['path'])\n",
    "    for variable in variables:\n",
    "        if variable not in variable_list:\n",
    "            variable_list.append(variable)\n",
    "            \n",
    "print (variable_list)"
   ]
  },
  {
   "cell_type": "markdown",
   "metadata": {},
   "source": [
    "## This code is only here to autoreload libraries while they in development"
   ]
  },
  {
   "cell_type": "code",
   "execution_count": null,
   "metadata": {
    "collapsed": true
   },
   "outputs": [],
   "source": []
  },
  {
   "cell_type": "code",
   "execution_count": 23,
   "metadata": {
    "collapsed": false
   },
   "outputs": [
    {
     "name": "stdout",
     "output_type": "stream",
     "text": [
      "State change!\n",
      "State change!\n"
     ]
    }
   ],
   "source": [
    "from IPython.html import widgets\n",
    "from IPython.display import display\n",
    "\n",
    "w = widgets.Dropdown(\n",
    "    options={'One': 1, 'Two': 2, 'Three': 3},\n",
    "    value=2,\n",
    "    description='Number:',\n",
    ")\n",
    "display(w)"
   ]
  },
  {
   "cell_type": "code",
   "execution_count": 24,
   "metadata": {
    "collapsed": true
   },
   "outputs": [],
   "source": [
    "def on_trait_change():\n",
    "    print (\"State change!\")\n",
    "\n",
    "w.on_trait_change(on_trait_change, 'value')\n"
   ]
  },
  {
   "cell_type": "code",
   "execution_count": 10,
   "metadata": {
    "collapsed": false
   },
   "outputs": [],
   "source": [
    "%reload_ext autoreload\n",
    "%autoreload 2\n"
   ]
  }
 ],
 "metadata": {
  "kernelspec": {
   "display_name": "Python 3",
   "language": "python",
   "name": "python3"
  },
  "language_info": {
   "codemirror_mode": {
    "name": "ipython",
    "version": 3
   },
   "file_extension": ".py",
   "mimetype": "text/x-python",
   "name": "python",
   "nbconvert_exporter": "python",
   "pygments_lexer": "ipython3",
   "version": "3.4.3"
  }
 },
 "nbformat": 4,
 "nbformat_minor": 0
}
